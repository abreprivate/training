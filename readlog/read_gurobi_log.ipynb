{
 "metadata": {
  "name": "",
  "signature": "sha256:10aa3ba857228117974b69821af0b583f72589002f0e39c9e3dc45465d97a8e8"
 },
 "nbformat": 3,
 "nbformat_minor": 0,
 "worksheets": [
  {
   "cells": [
    {
     "cell_type": "code",
     "collapsed": false,
     "input": [
      "import numpy as np\n",
      "import matplotlib.pyplot as plt\n",
      "import matplotlib.lines as Line2D"
     ],
     "language": "python",
     "metadata": {},
     "outputs": [],
     "prompt_number": 93
    },
    {
     "cell_type": "code",
     "collapsed": false,
     "input": [
      "def isfloat(value):\n",
      "    try:\n",
      "        float(value)\n",
      "        return True\n",
      "    except ValueError:\n",
      "        return False\n",
      "    \n",
      "def convert(value):\n",
      "    if isfloat(value):\n",
      "        return float(value)\n",
      "    elif value[-1] == '%' and isfloat(value[:-1]):\n",
      "        return float(value[:-1])/100.\n",
      "    elif value[-1] == 's' and isfloat(value[:-1]):\n",
      "        return float(value[:-1])\n",
      "    else:\n",
      "        return ''"
     ],
     "language": "python",
     "metadata": {},
     "outputs": [],
     "prompt_number": 69
    },
    {
     "cell_type": "code",
     "collapsed": false,
     "input": [
      "logv = []        # matrix of log values logv[line][col]\n",
      "cols = []        # ending columns for fields\n",
      "with open(\"gurobi.log\",'r') as f:\n",
      "    first_line = True\n",
      "    for line in f:\n",
      "        fields = []\n",
      "        fields.append(line[0])\n",
      "        # Use first line in log table to determine the ending column of each field\n",
      "        if first_line:\n",
      "            cols.append(0)                           # column 0 may contain 'H' or '*' or space\n",
      "            for index in range(1,len(line)-1):       # skip first column \n",
      "                if line[index]!=' ' and (line[index+1]==' ' or line[index+1]=='\\n'):\n",
      "                    cols.append(index)               # record ending column of each field\n",
      "                    fields.append(convert(line[line.rfind(' ',0,index):index+1]))\n",
      "            print cols\n",
      "        else:\n",
      "            for fieldcol in cols[1:]:\n",
      "                if line[fieldcol]!=' ' and (line[fieldcol+1]==' ' or line[fieldcol+1]=='\\n'):\n",
      "                    fields.append(convert(line[line.rfind(' ',0,fieldcol):fieldcol+1]))\n",
      "                else:\n",
      "                    fields.append('')\n",
      "        logv.append(fields)\n",
      "        first_line = False\n",
      "print logv"
     ],
     "language": "python",
     "metadata": {},
     "outputs": [
      {
       "output_type": "stream",
       "stream": "stdout",
       "text": [
        "[0, 5, 11, 22, 27, 32, 43, 54, 61, 67, 73]\n",
        "[[' ', 0.0, 0.0, 123.7697, 0.0, 192.0, 804.0, 123.7697, 0.846, '', 0.0], ['H', 0.0, 0.0, '', '', '', 753.0, 123.7697, 0.836, '', 0.0], [' ', 0.0, 0.0, 302.0, 0.0, 154.0, 753.0, 302.0, 0.599, '', 1.0], [' ', 0.0, 0.0, 302.0, 0.0, 154.0, 753.0, 302.0, 0.599, '', 1.0], [' ', 0.0, 0.0, 302.0, 0.0, 63.0, 753.0, 302.0, 0.599, '', 1.0], [' ', 0.0, 2.0, 302.0, 0.0, 62.0, 753.0, 302.0, 0.599, '', 1.0], ['H', 27.0, 23.0, '', '', '', 453.0, 302.0, 0.33299999999999996, 54.3, 2.0], ['H', 54.0, 45.0, '', '', '', 402.0, 302.0, 0.249, 37.2, 2.0], ['H', 81.0, 3.0, '', '', '', 302.0, 302.0, 0.0, 29.1, 2.0]]\n"
       ]
      }
     ],
     "prompt_number": 76
    },
    {
     "cell_type": "code",
     "collapsed": false,
     "input": [
      "mat = np.array(logv)\n",
      "print mat\n",
      "mat[:,10]"
     ],
     "language": "python",
     "metadata": {},
     "outputs": [
      {
       "output_type": "stream",
       "stream": "stdout",
       "text": [
        "[[' ' '0.0' '0.0' '123.7697' '0.0' '192.0' '804.0' '123.7697' '0.846' ''\n",
        "  '0.0']\n",
        " ['H' '0.0' '0.0' '' '' '' '753.0' '123.7697' '0.836' '' '0.0']\n",
        " [' ' '0.0' '0.0' '302.0' '0.0' '154.0' '753.0' '302.0' '0.599' '' '1.0']\n",
        " [' ' '0.0' '0.0' '302.0' '0.0' '154.0' '753.0' '302.0' '0.599' '' '1.0']\n",
        " [' ' '0.0' '0.0' '302.0' '0.0' '63.0' '753.0' '302.0' '0.599' '' '1.0']\n",
        " [' ' '0.0' '2.0' '302.0' '0.0' '62.0' '753.0' '302.0' '0.599' '' '1.0']\n",
        " ['H' '27.0' '23.0' '' '' '' '453.0' '302.0' '0.333' '54.3' '2.0']\n",
        " ['H' '54.0' '45.0' '' '' '' '402.0' '302.0' '0.249' '37.2' '2.0']\n",
        " ['H' '81.0' '3.0' '' '' '' '302.0' '302.0' '0.0' '29.1' '2.0']]\n"
       ]
      },
      {
       "metadata": {},
       "output_type": "pyout",
       "prompt_number": 82,
       "text": [
        "array(['0.0', '0.0', '1.0', '1.0', '1.0', '1.0', '2.0', '2.0', '2.0'], \n",
        "      dtype='|S8')"
       ]
      }
     ],
     "prompt_number": 82
    },
    {
     "cell_type": "code",
     "collapsed": false,
     "input": [
      "plt.plot(mat[:,10],mat[:,6],'g--',mat[:,10],mat[:,7],'r--', mat[:,10])\n",
      "plt.show()"
     ],
     "language": "python",
     "metadata": {},
     "outputs": []
    },
    {
     "cell_type": "code",
     "collapsed": false,
     "input": [
      "plt.plot(mat[:,10],mat[:,8],'b--')\n",
      "plt.show()"
     ],
     "language": "python",
     "metadata": {},
     "outputs": [],
     "prompt_number": 90
    },
    {
     "cell_type": "code",
     "collapsed": false,
     "input": [
      "Line2D.markers"
     ],
     "language": "python",
     "metadata": {},
     "outputs": [
      {
       "ename": "AttributeError",
       "evalue": "'module' object has no attribute 'markers'",
       "output_type": "pyerr",
       "traceback": [
        "\u001b[1;31m---------------------------------------------------------------------------\u001b[0m\n\u001b[1;31mAttributeError\u001b[0m                            Traceback (most recent call last)",
        "\u001b[1;32m<ipython-input-94-d32ae8dd1819>\u001b[0m in \u001b[0;36m<module>\u001b[1;34m()\u001b[0m\n\u001b[1;32m----> 1\u001b[1;33m \u001b[0mLine2D\u001b[0m\u001b[1;33m.\u001b[0m\u001b[0mmarkers\u001b[0m\u001b[1;33m\u001b[0m\u001b[0m\n\u001b[0m",
        "\u001b[1;31mAttributeError\u001b[0m: 'module' object has no attribute 'markers'"
       ]
      }
     ],
     "prompt_number": 94
    },
    {
     "cell_type": "code",
     "collapsed": false,
     "input": [],
     "language": "python",
     "metadata": {},
     "outputs": []
    }
   ],
   "metadata": {}
  }
 ]
}