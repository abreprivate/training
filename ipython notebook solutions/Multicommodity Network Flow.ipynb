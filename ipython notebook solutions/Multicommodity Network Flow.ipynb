{
 "metadata": {
  "name": "",
  "signature": "sha256:2de9938362a3417a6835b0f867dc04032397fe394f0891e0f65908595b2e86b2"
 },
 "nbformat": 3,
 "nbformat_minor": 0,
 "worksheets": [
  {
   "cells": [
    {
     "cell_type": "code",
     "collapsed": false,
     "input": [
      "from gurobipy import *"
     ],
     "language": "python",
     "metadata": {},
     "outputs": []
    },
    {
     "cell_type": "markdown",
     "metadata": {},
     "source": [
      "Given a set of commodities $h \\in H$"
     ]
    },
    {
     "cell_type": "code",
     "collapsed": false,
     "input": [
      "commodities = ['Pencils', 'Pens']"
     ],
     "language": "python",
     "metadata": {},
     "outputs": []
    },
    {
     "cell_type": "markdown",
     "metadata": {},
     "source": [
      "A set of nodes $j \\in J$"
     ]
    },
    {
     "cell_type": "code",
     "collapsed": false,
     "input": [
      "nodes = ['Detroit', 'Denver', 'Boston', 'New York', 'Seattle']"
     ],
     "language": "python",
     "metadata": {},
     "outputs": []
    },
    {
     "cell_type": "markdown",
     "metadata": {},
     "source": [
      "Arcs $(i, j) \\in A$ with associated capacities $u_{ij}$"
     ]
    },
    {
     "cell_type": "code",
     "collapsed": false,
     "input": [
      "arcs, capacity = multidict({\n",
      "  ('Detroit', 'Boston'):   100,\n",
      "  ('Detroit', 'New York'):  80,\n",
      "  ('Detroit', 'Seattle'):  120,\n",
      "  ('Denver',  'Boston'):   120,\n",
      "  ('Denver',  'New York'): 120,\n",
      "  ('Denver',  'Seattle'):  120 })\n",
      "arcs = tuplelist(arcs)"
     ],
     "language": "python",
     "metadata": {},
     "outputs": []
    },
    {
     "cell_type": "markdown",
     "metadata": {},
     "source": [
      "Costs $c_{hij}$ to ship a unit of commodity $h$ on arc $(i, j)$"
     ]
    },
    {
     "cell_type": "code",
     "collapsed": false,
     "input": [
      "cost = {\n",
      "  ('Pencils', 'Detroit', 'Boston'):   10,\n",
      "  ('Pencils', 'Detroit', 'New York'): 20,\n",
      "  ('Pencils', 'Detroit', 'Seattle'):  60,\n",
      "  ('Pencils', 'Denver',  'Boston'):   40,\n",
      "  ('Pencils', 'Denver',  'New York'): 40,\n",
      "  ('Pencils', 'Denver',  'Seattle'):  30,\n",
      "  ('Pens',    'Detroit', 'Boston'):   20,\n",
      "  ('Pens',    'Detroit', 'New York'): 20,\n",
      "  ('Pens',    'Detroit', 'Seattle'):  80,\n",
      "  ('Pens',    'Denver',  'Boston'):   60,\n",
      "  ('Pens',    'Denver',  'New York'): 70,\n",
      "  ('Pens',    'Denver',  'Seattle'):  30 }"
     ],
     "language": "python",
     "metadata": {},
     "outputs": []
    },
    {
     "cell_type": "markdown",
     "metadata": {},
     "source": [
      "Net demand (supply if negative) for commodity $h$ at node $j$, $d_{hj}$"
     ]
    },
    {
     "cell_type": "code",
     "collapsed": false,
     "input": [
      "demand = {\n",
      "  ('Pencils', 'Detroit'):   -50,\n",
      "  ('Pencils', 'Denver'):    -60,\n",
      "  ('Pencils', 'Boston'):   50,\n",
      "  ('Pencils', 'New York'): 50,\n",
      "  ('Pencils', 'Seattle'):  10,\n",
      "  ('Pens',    'Detroit'):   -60,\n",
      "  ('Pens',    'Denver'):    -40,\n",
      "  ('Pens',    'Boston'):   40,\n",
      "  ('Pens',    'New York'): 30,\n",
      "  ('Pens',    'Seattle'):  30 }"
     ],
     "language": "python",
     "metadata": {},
     "outputs": []
    },
    {
     "cell_type": "code",
     "collapsed": false,
     "input": [
      "m = Model('netflow')"
     ],
     "language": "python",
     "metadata": {},
     "outputs": []
    },
    {
     "cell_type": "markdown",
     "metadata": {},
     "source": [
      "Decision variable $x_{hij} =$ number of units of commodity $h$ to ship on arc $(i, j)$"
     ]
    },
    {
     "cell_type": "code",
     "collapsed": false,
     "input": [
      "flow = {}\n",
      "for h in commodities:\n",
      "    for i,j in arcs:\n",
      "        flow[h,i,j] = m.addVar(ub=capacity[i,j], obj=cost[h,i,j],\n",
      "                               name='flow.{0}.{1}.{2}'.format(h, i, j))\n",
      "m.update()"
     ],
     "language": "python",
     "metadata": {},
     "outputs": []
    },
    {
     "cell_type": "markdown",
     "metadata": {},
     "source": [
      "Arc capacity constraints $\\sum_{(i, j) \\in A} x_{hij} \\le u_{ij},\\;(i, j) \\in A$"
     ]
    },
    {
     "cell_type": "code",
     "collapsed": false,
     "input": [
      "for i,j in arcs:\n",
      "    m.addConstr(quicksum(flow[h,i,j] for h in commodities) <= capacity[i,j],\n",
      "                'cap.{0}.{1}'.format(i, j))"
     ],
     "language": "python",
     "metadata": {},
     "outputs": []
    },
    {
     "cell_type": "markdown",
     "metadata": {},
     "source": [
      "Flow balance constraints $\\sum_{i \\in RS(j)} x_{hij} - \\sum_{k \\in FS(j)} x_{hjk} = d_{hj},\\;\\;h \\in H,\\;j \\in J$"
     ]
    },
    {
     "cell_type": "code",
     "collapsed": false,
     "input": [
      "# Flow conservation constraints\n",
      "for h in commodities:\n",
      "    for j in nodes:\n",
      "        m.addConstr(\n",
      "          quicksum(flow[h,i,j] for i,j in arcs.select('*',j)) -\n",
      "          quicksum(flow[h,j,k] for j,k in arcs.select(j,'*')) ==\n",
      "          demand[h, j], 'node.{0}.{1}'.format(h, j))"
     ],
     "language": "python",
     "metadata": {},
     "outputs": []
    },
    {
     "cell_type": "code",
     "collapsed": false,
     "input": [
      "m.optimize()\n",
      "\n",
      "if m.status == GRB.status.OPTIMAL:\n",
      "    solution = m.getAttr('x', flow)\n",
      "    for h in commodities:\n",
      "        print('\\nOptimal flows for %s:' % h)\n",
      "        for i,j in arcs:\n",
      "            if solution[h,i,j] > 0:\n",
      "                print('{0} -> {1}: {2}'.format(i, j, solution[h,i,j]))\n"
     ],
     "language": "python",
     "metadata": {},
     "outputs": []
    },
    {
     "cell_type": "code",
     "collapsed": false,
     "input": [
      "!cat network_flow.lp"
     ],
     "language": "python",
     "metadata": {},
     "outputs": []
    },
    {
     "cell_type": "code",
     "collapsed": false,
     "input": [],
     "language": "python",
     "metadata": {},
     "outputs": []
    }
   ],
   "metadata": {}
  }
 ]
}