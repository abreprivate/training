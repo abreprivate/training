{
 "cells": [
  {
   "cell_type": "markdown",
   "metadata": {},
   "source": [
    "<H1>The Shortest Path Problem and Column-wise Modeling</H1>"
   ]
  },
  {
   "cell_type": "markdown",
   "metadata": {
    "collapsed": true
   },
   "source": [
    "<H3>Problem Definition</H3>\n",
    "\n",
    "Let $N$ be a set of cities.\n",
    "\n",
    "Let $A$ be a set of arcs between cities.\n",
    "\n",
    "Let $d_{ij} > 0$ be the distance between city $i \\in N$ and city $j \\in N$.\n",
    "\n",
    "What is the path of shortest distance between a given origin city $s \\in N$ and destination city $t \\in N$?"
   ]
  },
  {
   "cell_type": "markdown",
   "metadata": {
    "collapsed": true
   },
   "source": [
    "<H3>Formulation</H3>\n",
    "\n",
    "Let $x_{ij} = 1$ if arc $(i, j)$ is traversed.\n",
    "\n",
    "Define the forward-star (reverse-star) of a city $i \\in N$ as the set of arcs leaving (entering) city $i$:\n",
    "\n",
    "$FS(i) = \\{j | (i,j) \\in A\\}$\n",
    "\n",
    "$RS(i) = \\{j | (j, i) \\in A\\}$"
   ]
  },
  {
   "cell_type": "markdown",
   "metadata": {
    "collapsed": true
   },
   "source": [
    "\\begin{eqnarray}                                                                                                                                              \n",
    "\\min_x && \\sum_{(i,j) \\in A} d_{ij} x_{ij} \\nonumber \\\\                                                                                                       \n",
    "\\mbox{s.t.} && \\sum_{j \\in RS(i)} x_{ji} - \\sum_{j \\in FS(i)} x_{ij} = b_i,\\;\\;i \\in N \\nonumber \\\\                                                           \n",
    "&& 0 \\le x_{ij} \\le 1,\\;\\;(i,j) \\in A, \\nonumber                                                                                                              \n",
    "\\end{eqnarray}                                                                                                                                                \n",
    "where $b_s = -1$, $b_t = 1$, and $b_i = 0$ for $i \\neq s, t$."
   ]
  },
  {
   "cell_type": "markdown",
   "metadata": {},
   "source": [
    "If we travel along arc $(i, j)$, we add a distance $d_{ij}$ to our journey. The objective is to minimize the total distance travelled. The constraints enforce a balance of flow at each city. The sum $\\sum_{j \\in RS(i)} x_{ji}$ counts the number of times we enter city $i \\in N$, and the sum $\\sum_{j \\in FS(i)} x_{ij}$ counts the number of times we leave city $i \\in N$. The difference between those two sums should be -1 for the source city $s \\in N$ (we leave $s$ once and never return), 1 for the destination city $t \\in N$ (we enter it once but never leave), and 0 for all cities in between (either we never visit the city, or we enter and leave the city exactly once)."
   ]
  },
  {
   "cell_type": "markdown",
   "metadata": {},
   "source": [
    "<H3>Inputs</H3>\n",
    "\n",
    "We'll need a list of the arcs in our network, along with the distance associated with each arc. Here, an arc can be represented as a pair of cities."
   ]
  },
  {
   "cell_type": "code",
   "execution_count": null,
   "metadata": {
    "collapsed": true
   },
   "outputs": [],
   "source": [
    "data = \"\"\"Honolulu, Chicago, 105\n",
    "Honolulu, San Francisco, 75\n",
    "Honolulu, Los Angeles, 68 \n",
    "Chicago, Boston, 45 \n",
    "Chicago, New York, 56 \n",
    "San Francisco, Boston, 71 \n",
    "San Francisco, New York, 48 \n",
    "San Francisco, Atlanta, 63 \n",
    "Los Angeles, New York, 44 \n",
    "Los Angeles, Atlanta, 57 \n",
    "Boston, Heathrow London, 88 \n",
    "New York, Heathrow London, 65 \n",
    "Atlanta, Heathrow London, 76\n",
    "\"\"\""
   ]
  },
  {
   "cell_type": "markdown",
   "metadata": {},
   "source": [
    "We will use the pandas library to help read the data."
   ]
  },
  {
   "cell_type": "code",
   "execution_count": null,
   "metadata": {
    "collapsed": true
   },
   "outputs": [],
   "source": [
    "from StringIO import StringIO\n",
    "import pandas as pd"
   ]
  },
  {
   "cell_type": "code",
   "execution_count": null,
   "metadata": {
    "collapsed": false
   },
   "outputs": [],
   "source": [
    "arcs = pd.read_csv(StringIO(data), header=None, skipinitialspace=True)\n",
    "arcs.columns = ['source', 'destination', 'distance']\n",
    "print arcs"
   ]
  },
  {
   "cell_type": "code",
   "execution_count": null,
   "metadata": {
    "collapsed": false
   },
   "outputs": [],
   "source": [
    "cities = pd.concat([arcs.source, arcs.destination]).unique()\n",
    "print cities\n",
    "arcs = [row for i, row in arcs.iterrows()]"
   ]
  },
  {
   "cell_type": "markdown",
   "metadata": {},
   "source": [
    "<H3>Building the Model: Naive Approach</H3>\n",
    "\n",
    "The flow balance constraints in the above shortest path formulation involve sums over dynamic sets $RS(i)$ and $FS(i)$, which are both subsets of the full arc set $A$, and also vary depending on the city $i$. This is a departure from, say, the diet problem in which every constraint has a sum over the full set of food types. As such, we'll need to take a slightly different approach in order to efficiently add constraints to the model. We'll start off by presenting a naive approach that is $O(|N|*|A|)$ just to build the model.\n",
    "\n",
    "We'll first add variables and set the objective."
   ]
  },
  {
   "cell_type": "code",
   "execution_count": null,
   "metadata": {
    "collapsed": false
   },
   "outputs": [],
   "source": [
    "import gurobipy as grb\n",
    "\n",
    "m = grb.Model()\n",
    "arc_traversed = {(arc.source, arc.destination): m.addVar(obj=arc.distance,\n",
    "                                                        name='.'.join(('arc_traversed', arc.source, arc.destination)))\n",
    "                 for arc in arcs}\n",
    "m.update()\n",
    "print arc_traversed"
   ]
  },
  {
   "cell_type": "markdown",
   "metadata": {},
   "source": [
    "We now have a dictionary that maps a pair of cities to the decision variable which will ultimately tell use if we travel between those cities. Each city $i \\in N$ will get its own flow balance constraint. To write that constraint we need to know what arcs enter and leave the city, and that requires a lookup of the arcs set. We can write methods to do this for us."
   ]
  },
  {
   "cell_type": "code",
   "execution_count": null,
   "metadata": {
    "collapsed": false
   },
   "outputs": [],
   "source": [
    "def get_forward_star(arc_traversed, city):\n",
    "    return [var for (source, destination), var in arc_traversed.iteritems() if source == city]\n",
    "\n",
    "def get_reverse_star(arc_traversed, city):\n",
    "    return [var for (source, destination), var in arc_traversed.iteritems() if destination == city]"
   ]
  },
  {
   "cell_type": "markdown",
   "metadata": {},
   "source": [
    "Let's pick an intermediate city, say Atlanta, and generate the linear expression for its flow balance constraint."
   ]
  },
  {
   "cell_type": "code",
   "execution_count": null,
   "metadata": {
    "collapsed": false
   },
   "outputs": [],
   "source": [
    "num_times_leaving = get_forward_star(arc_traversed, 'Atlanta')\n",
    "num_times_entering = get_reverse_star(arc_traversed, 'Atlanta')\n",
    "balance_expr = grb.quicksum(num_times_entering) - grb.quicksum(num_times_leaving)\n",
    "print balance_expr"
   ]
  },
  {
   "cell_type": "markdown",
   "metadata": {},
   "source": [
    "This looks correct. The forward star consists of the single arc to Heathrow London, and the reverse star consists of the arcs from Los Angeles and San Francisco. We can only travel from Atlanta to Heathrow London if we first travelled to Atlanta via either Los Angeles or San Francisco, so this expression needs to be equal to 0. A naive approach will simply repeat this lookup for every city."
   ]
  },
  {
   "cell_type": "code",
   "execution_count": null,
   "metadata": {
    "collapsed": true
   },
   "outputs": [],
   "source": [
    "def naive_shortest_path(cities, arcs, origin, destination):\n",
    "    def get_forward_star(city):\n",
    "        return [var for (source, destination), var in arc_traversed.iteritems() if source == city]\n",
    "    \n",
    "    def get_reverse_star(city):\n",
    "        return [var for (source, destination), var in arc_traversed.iteritems() if destination == city]    \n",
    "    \n",
    "    model = grb.Model()\n",
    "\n",
    "    arc_traversed = {(arc.source, arc.destination): model.addVar(obj=arc.distance,\n",
    "                                                        name='.'.join(('arc_traversed', arc.source, arc.destination)))\n",
    "                     for arc in arcs}\n",
    "    model.update()\n",
    "    flow_balance = {}\n",
    "    for city in cities:\n",
    "        num_times_leaving = grb.quicksum(get_forward_star(city))\n",
    "        num_times_entering = grb.quicksum(get_reverse_star(city))\n",
    "        flow_balance[city] = model.addConstr(num_times_entering - num_times_leaving == 0,\n",
    "                                             name='flow.' + str(city))\n",
    "    model.update()\n",
    "    flow_balance[origin].RHS = -1\n",
    "    flow_balance[destination].RHS = 1\n",
    "    model.optimize()\n",
    "    model.write('naive.lp')\n",
    "    for arc, var in arc_traversed.iteritems():\n",
    "        if var.X > 0.5:\n",
    "            print arc\n",
    "    print \"Total distance =\", model.ObjVal"
   ]
  },
  {
   "cell_type": "code",
   "execution_count": null,
   "metadata": {
    "collapsed": false
   },
   "outputs": [],
   "source": [
    "naive_shortest_path(cities, arcs, 'Honolulu', 'Heathrow London')"
   ]
  },
  {
   "cell_type": "code",
   "execution_count": null,
   "metadata": {
    "collapsed": false
   },
   "outputs": [],
   "source": [
    "!cat naive.lp"
   ]
  },
  {
   "cell_type": "markdown",
   "metadata": {},
   "source": [
    "<H3>Modeling with tuplelist</H3>"
   ]
  },
  {
   "cell_type": "code",
   "execution_count": null,
   "metadata": {
    "collapsed": false
   },
   "outputs": [],
   "source": [
    "arc_tuple_list = grb.tuplelist([(arc.source, arc.destination) for arc in arcs])"
   ]
  },
  {
   "cell_type": "code",
   "execution_count": null,
   "metadata": {
    "collapsed": false
   },
   "outputs": [],
   "source": [
    "print arc_tuple_list.select('*', 'Atlanta')\n",
    "print arc_tuple_list.select('Atlanta', '*')"
   ]
  },
  {
   "cell_type": "code",
   "execution_count": null,
   "metadata": {
    "collapsed": true
   },
   "outputs": [],
   "source": [
    "def tuplelist_shortest_path(cities, arcs, origin, destination):   \n",
    "    model = grb.Model()\n",
    "\n",
    "    arc_traversed = {(arc.source, arc.destination): model.addVar(obj=arc.distance,\n",
    "                                                        name='.'.join(('arc_traversed', arc.source, arc.destination)))\n",
    "                     for arc in arcs}\n",
    "    model.update()\n",
    "    \n",
    "    arc_tuple_list = grb.tuplelist(arc_traversed.keys())    \n",
    "    flow_balance = {}\n",
    "    for city in cities:\n",
    "        num_times_leaving = grb.quicksum(arc_traversed[arc] for arc in arc_tuple_list.select(city, '*'))\n",
    "        num_times_entering = grb.quicksum(arc_traversed[arc] for arc in arc_tuple_list.select('*', city))\n",
    "        flow_balance[city] = model.addConstr(num_times_entering - num_times_leaving == 0,\n",
    "                                             name='flow.' + str(city))\n",
    "    model.update()\n",
    "    flow_balance[origin].RHS = -1\n",
    "    flow_balance[destination].RHS = 1\n",
    "    model.optimize()\n",
    "    model.write('tuplelist.lp')\n",
    "    for arc, var in arc_traversed.iteritems():\n",
    "        if var.X > 0.5:\n",
    "            print arc\n",
    "    print \"Total distance =\", model.ObjVal"
   ]
  },
  {
   "cell_type": "code",
   "execution_count": null,
   "metadata": {
    "collapsed": false
   },
   "outputs": [],
   "source": [
    "tuplelist_shortest_path(cities, arcs, 'Honolulu', 'Heathrow London')"
   ]
  },
  {
   "cell_type": "code",
   "execution_count": null,
   "metadata": {
    "collapsed": false
   },
   "outputs": [],
   "source": [
    "!cat tuplelist.lp"
   ]
  },
  {
   "cell_type": "markdown",
   "metadata": {},
   "source": [
    "<H3>Modeling with Columns</H3>\n",
    "\n",
    "When building a Gurobi model, it can be useful to focus on a single constraint or row, and ask what variables participate in that constraint. \n",
    "\n",
    "While this row-wise view is frequently the most intuitive view of the model, there are some cases in which it is difficult to describe the set of variables corresponding to a constraint. In these cases it may actually be easier to focus on a single variable or column, and ask what constraints that variable participates in. That is, we may wish to think about what a specific column in the constraint matrix looks like.\n",
    "\n",
    "Both the row-wise and column-wise approaches can lead us to a correct representation of the model, there are reasons to prefer one over the other depending on the context. Generally speaking, we will prefer the column-wise perspective when each variable appears in a fixed number of constraints.\n",
    "\n",
    "In the context of the shortest path formulation above, each variable indicates whether we traverse a particular arc, and each constraint enforces a conservation of flow for a particular city. Consider one of these constraints, say the one corresponding to Chicago. Each of the rows in the arc DataFrame above corresponds to a decision variable. We can certainly look up the arcs that are incident to Chicago -- there is an inbound arc from Honolulu and two outbound arcs to Boston and New York -- and write down a constraint that says that we only traverse an outbound arc if we traversed an inbound arc. We could repeat this arc lookup for each city to build the full model, with each lookup returning a different number of arcs depending on the city.\n",
    "\n",
    "Now consider one of the variables in the model, say the one corresponding to the arc from Los Angeles to New York. Determining which constraints this variable participates in requires no lookup. It participates in the constraint for Los Angeles and the constraint for New York. In fact, every variable in the model participates in exactly two constraints-- one for the source and one for the destination city. If we follow the convention that flow in to a city is positive and flow out is negative, each column in the constraint matrix has exactly two non-zero entries, a 1 for the destination city and a -1 for the source city. That each column has a very easily-defined structure is an indication that the model is amenable to a column-wise approach."
   ]
  },
  {
   "cell_type": "code",
   "execution_count": null,
   "metadata": {
    "collapsed": false
   },
   "outputs": [],
   "source": [
    "def solve_shortest_path(cities, arcs, origin, destination):\n",
    "    def get_column(arc):\n",
    "        return grb.Column(coeffs=[1, -1], constrs=[flow_balance[arc.destination], flow_balance[arc.source]])\n",
    "\n",
    "    model = grb.Model()\n",
    "    flow_balance = {city: model.addConstr(grb.LinExpr() == 0, name='flow.' + str(city))\n",
    "                    for city in cities}\n",
    "    model.update()\n",
    "    flow_balance[origin].RHS = -1\n",
    "    flow_balance[destination].RHS = 1\n",
    "    \n",
    "    arc_traversed = {(arc.source, arc.destination): model.addVar(obj=arc.distance,\n",
    "                                                                 name='.'.join(('arc_traversed', arc.source, arc.destination)),\n",
    "                                                                 column=get_column(arc))\n",
    "                     for arc in arcs}\n",
    "    model.optimize()\n",
    "    for arc, var in arc_traversed.iteritems():\n",
    "        if var.X > 0.5:\n",
    "            print arc\n",
    "    print \"Total distance =\", model.ObjVal"
   ]
  },
  {
   "cell_type": "code",
   "execution_count": null,
   "metadata": {
    "collapsed": false
   },
   "outputs": [],
   "source": [
    "solve_shortest_path(cities, arcs, 'Honolulu', 'Heathrow London')"
   ]
  },
  {
   "cell_type": "code",
   "execution_count": null,
   "metadata": {
    "collapsed": true
   },
   "outputs": [],
   "source": []
  }
 ],
 "metadata": {
  "kernelspec": {
   "display_name": "Python 2",
   "language": "python",
   "name": "python2"
  },
  "language_info": {
   "codemirror_mode": {
    "name": "ipython",
    "version": 2
   },
   "file_extension": ".py",
   "mimetype": "text/x-python",
   "name": "python",
   "nbconvert_exporter": "python",
   "pygments_lexer": "ipython2",
   "version": "2.7.12"
  }
 },
 "nbformat": 4,
 "nbformat_minor": 0
}
