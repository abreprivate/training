{
 "cells": [
  {
   "cell_type": "markdown",
   "metadata": {},
   "source": [
    "### Summation Notation"
   ]
  },
  {
   "cell_type": "markdown",
   "metadata": {},
   "source": [
    "Linear programs typically involve sums over many decision variables. We introduce sigma notation ($\\sum$) as a shorthand way to represent arbitrarily large sums.\n",
    "\n",
    "Consider the set $I = \\{1, 2, 3\\}$. The expression \n",
    "\\begin{equation}\n",
    "\\sum_{i \\in I} a_i x_i\n",
    "\\end{equation}\n",
    "is shorthand for the sum \n",
    "\\begin{equation}\n",
    "a_1 x_1 + a_2 x_2 + a_3 x_3.\n",
    "\\end{equation}\n",
    "The symbol $\\in$ is read as \"in\". \n",
    "\n",
    "What we gain from adopting this notation is that now if we consider $I = \\{1, 2, \\ldots, n\\}$ for an arbitrary $n$,  $\\sum_{i \\in I} a_i x_i = a_1 x_1 + a_2 x_2 + \\cdots + a_n x_n$. That is, we can write arbitrarily-sized sums in one shot."
   ]
  },
  {
   "cell_type": "markdown",
   "metadata": {},
   "source": [
    "### Knapsack problem"
   ]
  },
  {
   "cell_type": "markdown",
   "metadata": {},
   "source": [
    "Suppose you are given a set of items $I = \\{1, \\ldots, n\\}$, each with a value $v_i$ and a weight $w_i$. We have a knapsack that has a weight capacity of $b$. What is the highest valued collection of items that can go into the knapsack? Assume that you can put fractions of items into the knapsack.\n",
    "\n",
    "Let $x_i, i \\in I$ be the fraction of item $i$ that goes in the knapsack. We can use sigma notation to write expressions for the value and weight of our collection of items. The total value is given by $\\sum_{i \\in I} v_i x_i$ and the total weight is given by $\\sum_{i \\in I} w_i x_i$. Then we can formulate our problem as a linear program:"
   ]
  },
  {
   "cell_type": "markdown",
   "metadata": {},
   "source": [
    "\\begin{eqnarray}\n",
    "\\max_x && \\sum_{i \\in I} v_i x_i \\\\\n",
    "\\mbox{s.t.} && \\sum_{i \\in I} w_i x_i \\le b \\\\\n",
    "&& 0 \\le x_i \\le 1,\\;\\;i \\in I.\n",
    "\\end{eqnarray}\n",
    "\n",
    "Consider the following data:"
   ]
  },
  {
   "cell_type": "code",
   "execution_count": 1,
   "metadata": {
    "collapsed": false
   },
   "outputs": [],
   "source": [
    "weights = [70, 73, 77, 80, 82, 87, 90, 94, 98, 106, 110, 113, 115, 118, 120]\n",
    "values = [135, 139, 149, 150, 156, 163, 173, 184, 192, 201, 210, 214, 221, 229, 240]\n",
    "I = range(len(values))\n",
    "capacity = 750"
   ]
  },
  {
   "cell_type": "markdown",
   "metadata": {},
   "source": [
    "First, we're going to need to instantiate the decision variables and save references to them in a data structure. We'll use a Python list for this purpose."
   ]
  },
  {
   "cell_type": "code",
   "execution_count": 2,
   "metadata": {
    "collapsed": false
   },
   "outputs": [],
   "source": [
    "from gurobipy import *"
   ]
  },
  {
   "cell_type": "code",
   "execution_count": 3,
   "metadata": {
    "collapsed": false
   },
   "outputs": [],
   "source": [
    "m = Model()"
   ]
  },
  {
   "cell_type": "code",
   "execution_count": 4,
   "metadata": {
    "collapsed": false
   },
   "outputs": [],
   "source": [
    "item_selected = []\n",
    "for i in I:\n",
    "    item_selected.append(m.addVar(ub=1, obj=values[i], name='item_selected.' + str(i)))"
   ]
  },
  {
   "cell_type": "code",
   "execution_count": 5,
   "metadata": {
    "collapsed": false
   },
   "outputs": [],
   "source": [
    "m.update()"
   ]
  },
  {
   "cell_type": "markdown",
   "metadata": {},
   "source": [
    "Now we need to write the knapsack capacity constraint, which means we'll need an expression for the total weight of our collection of items (in terms of the decision variables we just created). We use a LinExpr object for this purpose, and we've got a few options to build up this object. The first uses some syntactic sugar that is only available through the Python API, namely the quicksum method."
   ]
  },
  {
   "cell_type": "code",
   "execution_count": 6,
   "metadata": {
    "collapsed": false
   },
   "outputs": [
    {
     "data": {
      "text/plain": [
       "<gurobi.LinExpr: 70.0 item_selected.0 + 73.0 item_selected.1 + 77.0 item_selected.2 + 80.0 item_selected.3 + 82.0 item_selected.4 + 87.0 item_selected.5 + 90.0 item_selected.6 + 94.0 item_selected.7 + 98.0 item_selected.8 + 106.0 item_selected.9 + 110.0 item_selected.10 + 113.0 item_selected.11 + 115.0 item_selected.12 + 118.0 item_selected.13 + 120.0 item_selected.14>"
      ]
     },
     "execution_count": 6,
     "metadata": {},
     "output_type": "execute_result"
    }
   ],
   "source": [
    "quicksum(weights[i]*item_selected[i] for i in I)"
   ]
  },
  {
   "cell_type": "markdown",
   "metadata": {},
   "source": [
    "A slightly less slick way to acheive this is through a for loop."
   ]
  },
  {
   "cell_type": "code",
   "execution_count": 7,
   "metadata": {
    "collapsed": false
   },
   "outputs": [
    {
     "name": "stdout",
     "output_type": "stream",
     "text": [
      "<gurobi.LinExpr: 70.0 item_selected.0 + 73.0 item_selected.1 + 77.0 item_selected.2 + 80.0 item_selected.3 + 82.0 item_selected.4 + 87.0 item_selected.5 + 90.0 item_selected.6 + 94.0 item_selected.7 + 98.0 item_selected.8 + 106.0 item_selected.9 + 110.0 item_selected.10 + 113.0 item_selected.11 + 115.0 item_selected.12 + 118.0 item_selected.13 + 120.0 item_selected.14>\n"
     ]
    }
   ],
   "source": [
    "total_weight = LinExpr()\n",
    "for i in I:\n",
    "    total_weight += weights[i]*item_selected[i]\n",
    "print total_weight"
   ]
  },
  {
   "cell_type": "markdown",
   "metadata": {},
   "source": [
    "Here, the += operator is overloaded to return a LinExpr object as opposed to doing arithmetic. Operator overloading isn't available in Java, and is not advisable in .NET. Those API's provide methods on the LinExpr (really GRBLinExpr) object that do the same job."
   ]
  },
  {
   "cell_type": "code",
   "execution_count": 8,
   "metadata": {
    "collapsed": false
   },
   "outputs": [
    {
     "name": "stdout",
     "output_type": "stream",
     "text": [
      "<gurobi.LinExpr: 70.0 item_selected.0 + 73.0 item_selected.1 + 77.0 item_selected.2 + 80.0 item_selected.3 + 82.0 item_selected.4 + 87.0 item_selected.5 + 90.0 item_selected.6 + 94.0 item_selected.7 + 98.0 item_selected.8 + 106.0 item_selected.9 + 110.0 item_selected.10 + 113.0 item_selected.11 + 115.0 item_selected.12 + 118.0 item_selected.13 + 120.0 item_selected.14>\n"
     ]
    }
   ],
   "source": [
    "total_weight = LinExpr()\n",
    "for i in I:\n",
    "    total_weight.add(item_selected[i], weights[i])\n",
    "print total_weight"
   ]
  },
  {
   "cell_type": "markdown",
   "metadata": {},
   "source": [
    "However we build up the summation of the weights, we can use the LinExpr object as the left-hand side of a constraint."
   ]
  },
  {
   "cell_type": "code",
   "execution_count": 9,
   "metadata": {
    "collapsed": false
   },
   "outputs": [],
   "source": [
    "weight_con = m.addConstr(total_weight <= capacity, name='total_weight')"
   ]
  },
  {
   "cell_type": "code",
   "execution_count": 10,
   "metadata": {
    "collapsed": false
   },
   "outputs": [],
   "source": [
    "m.update()"
   ]
  },
  {
   "cell_type": "code",
   "execution_count": 11,
   "metadata": {
    "collapsed": false
   },
   "outputs": [],
   "source": [
    "m.write('knapsack.lp')"
   ]
  },
  {
   "cell_type": "code",
   "execution_count": 12,
   "metadata": {
    "collapsed": false
   },
   "outputs": [
    {
     "name": "stdout",
     "output_type": "stream",
     "text": [
      "/bin/sh: line 0: type: knapsack.lp: not found\r\n"
     ]
    }
   ],
   "source": [
    "!type knapsack.lp"
   ]
  },
  {
   "cell_type": "code",
   "execution_count": 13,
   "metadata": {
    "collapsed": false
   },
   "outputs": [
    {
     "name": "stdout",
     "output_type": "stream",
     "text": [
      "Optimize a model with 1 rows, 15 columns and 15 nonzeros\n",
      "Coefficient statistics:\n",
      "  Matrix range    [7e+01, 1e+02]\n",
      "  Objective range [1e+02, 2e+02]\n",
      "  Bounds range    [1e+00, 1e+00]\n",
      "  RHS range       [8e+02, 8e+02]\n",
      "Presolve removed 1 rows and 15 columns\n",
      "Presolve time: 0.00s\n",
      "Presolve: All rows and columns removed\n",
      "Iteration    Objective       Primal Inf.    Dual Inf.      Time\n",
      "       0    0.0000000e+00   0.000000e+00   0.000000e+00      0s\n",
      "\n",
      "Solved in 0 iterations and 0.01 seconds\n",
      "Optimal objective  0.000000000e+00\n"
     ]
    }
   ],
   "source": [
    "m.optimize()"
   ]
  },
  {
   "cell_type": "markdown",
   "metadata": {},
   "source": [
    "Remember that Gurobi will minimize by default..."
   ]
  },
  {
   "cell_type": "code",
   "execution_count": 14,
   "metadata": {
    "collapsed": false
   },
   "outputs": [],
   "source": [
    "m.ModelSense = GRB.MAXIMIZE"
   ]
  },
  {
   "cell_type": "code",
   "execution_count": 15,
   "metadata": {
    "collapsed": false
   },
   "outputs": [
    {
     "name": "stdout",
     "output_type": "stream",
     "text": [
      "Optimize a model with 1 rows, 15 columns and 15 nonzeros\n",
      "Coefficient statistics:\n",
      "  Matrix range    [7e+01, 1e+02]\n",
      "  Objective range [1e+02, 2e+02]\n",
      "  Bounds range    [1e+00, 1e+00]\n",
      "  RHS range       [8e+02, 8e+02]\n",
      "Iteration    Objective       Primal Inf.    Dual Inf.      Time\n",
      "       0    2.7560000e+03   5.335938e+00   0.000000e+00      0s\n",
      "       1    1.4615043e+03   0.000000e+00   0.000000e+00      0s\n",
      "\n",
      "Solved in 1 iterations and 0.01 seconds\n",
      "Optimal objective  1.461504348e+03\n"
     ]
    }
   ],
   "source": [
    "m.optimize()"
   ]
  },
  {
   "cell_type": "code",
   "execution_count": 16,
   "metadata": {
    "collapsed": false
   },
   "outputs": [
    {
     "name": "stdout",
     "output_type": "stream",
     "text": [
      "item_selected.0 1.0\n",
      "item_selected.1 0.0\n",
      "item_selected.2 1.0\n",
      "item_selected.3 0.0\n",
      "item_selected.4 0.0\n",
      "item_selected.5 0.0\n",
      "item_selected.6 1.0\n",
      "item_selected.7 1.0\n",
      "item_selected.8 1.0\n",
      "item_selected.9 0.0\n",
      "item_selected.10 0.0\n",
      "item_selected.11 0.0\n",
      "item_selected.12 0.721739130435\n",
      "item_selected.13 1.0\n",
      "item_selected.14 1.0\n"
     ]
    }
   ],
   "source": [
    "for var in item_selected:\n",
    "    print var.VarName, var.X"
   ]
  },
  {
   "cell_type": "code",
   "execution_count": 17,
   "metadata": {
    "collapsed": false
   },
   "outputs": [],
   "source": [
    "for var in item_selected:\n",
    "    var.vtype = GRB.BINARY"
   ]
  },
  {
   "cell_type": "code",
   "execution_count": 18,
   "metadata": {
    "collapsed": false
   },
   "outputs": [
    {
     "name": "stdout",
     "output_type": "stream",
     "text": [
      "Optimize a model with 1 rows, 15 columns and 15 nonzeros\n",
      "Coefficient statistics:\n",
      "  Matrix range    [7e+01, 1e+02]\n",
      "  Objective range [1e+02, 2e+02]\n",
      "  Bounds range    [1e+00, 1e+00]\n",
      "  RHS range       [8e+02, 8e+02]\n",
      "Found heuristic solution: objective 1249\n",
      "Presolve time: 0.00s\n",
      "Presolved: 1 rows, 15 columns, 15 nonzeros\n",
      "Variable types: 0 continuous, 15 integer (15 binary)\n",
      "\n",
      "Root relaxation: objective 1.461504e+03, 1 iterations, 0.00 seconds\n",
      "\n",
      "    Nodes    |    Current Node    |     Objective Bounds      |     Work\n",
      " Expl Unexpl |  Obj  Depth IntInf | Incumbent    BestBd   Gap | It/Node Time\n",
      "\n",
      "     0     0 1461.50435    0    1 1249.00000 1461.50435  17.0%     -    0s\n",
      "H    0     0                    1455.0000000 1461.50435  0.45%     -    0s\n",
      "H    0     0                    1458.0000000 1461.50435  0.24%     -    0s\n",
      "     0     0 1460.43836    0    1 1458.00000 1460.43836  0.17%     -    0s\n",
      "     0     0 1460.38710    0    3 1458.00000 1460.38710  0.16%     -    0s\n",
      "     0     2 1460.38710    0    3 1458.00000 1460.38710  0.16%     -    0s\n",
      "\n",
      "Cutting planes:\n",
      "  Cover: 2\n",
      "\n",
      "Explored 7 nodes (10 simplex iterations) in 0.03 seconds\n",
      "Thread count was 8 (of 8 available processors)\n",
      "\n",
      "Optimal solution found (tolerance 1.00e-04)\n",
      "Best objective 1.458000000000e+03, best bound 1.458000000000e+03, gap 0.0%\n"
     ]
    }
   ],
   "source": [
    "m.optimize()"
   ]
  },
  {
   "cell_type": "code",
   "execution_count": 19,
   "metadata": {
    "collapsed": false
   },
   "outputs": [
    {
     "name": "stdout",
     "output_type": "stream",
     "text": [
      "item_selected.0 1.0\n",
      "item_selected.1 0.0\n",
      "item_selected.2 1.0\n",
      "item_selected.3 -0.0\n",
      "item_selected.4 1.0\n",
      "item_selected.5 -0.0\n",
      "item_selected.6 1.0\n",
      "item_selected.7 1.0\n",
      "item_selected.8 1.0\n",
      "item_selected.9 -0.0\n",
      "item_selected.10 -0.0\n",
      "item_selected.11 -0.0\n",
      "item_selected.12 -0.0\n",
      "item_selected.13 1.0\n",
      "item_selected.14 1.0\n"
     ]
    }
   ],
   "source": [
    "for var in item_selected:\n",
    "    print var.VarName, var.X"
   ]
  },
  {
   "cell_type": "markdown",
   "metadata": {},
   "source": [
    "We can wrap this up in a method that takes in the data and returns a Model."
   ]
  },
  {
   "cell_type": "code",
   "execution_count": 20,
   "metadata": {
    "collapsed": false
   },
   "outputs": [],
   "source": [
    "def get_knapsack_model(capacity, weights, values):\n",
    "    items = range(len(weights))\n",
    "    m = Model()\n",
    "    m.ModelSense = GRB.MAXIMIZE\n",
    "    item_selected = [m.addVar(ub=1, obj=values[item], name=\"item_selected.\" + str(item))\n",
    "                              for item in items]\n",
    "    m.update()\n",
    "    m.addConstr(quicksum(weights[item]*item_selected[item] for item in items) <= capacity)\n",
    "    m.update()\n",
    "    return m"
   ]
  },
  {
   "cell_type": "markdown",
   "metadata": {},
   "source": [
    "Let's try this with a different set of inputs:"
   ]
  },
  {
   "cell_type": "code",
   "execution_count": 21,
   "metadata": {
    "collapsed": false
   },
   "outputs": [],
   "source": [
    "m = get_knapsack_model(capacity=104,\n",
    "                       weights=[25, 35, 45, 5, 25, 3, 2, 2],\n",
    "                       values=[350, 400, 450, 20, 70, 8, 5, 5])"
   ]
  },
  {
   "cell_type": "code",
   "execution_count": 22,
   "metadata": {
    "collapsed": false
   },
   "outputs": [
    {
     "name": "stdout",
     "output_type": "stream",
     "text": [
      "Optimize a model with 1 rows, 8 columns and 8 nonzeros\n",
      "Coefficient statistics:\n",
      "  Matrix range    [2e+00, 4e+01]\n",
      "  Objective range [5e+00, 4e+02]\n",
      "  Bounds range    [1e+00, 1e+00]\n",
      "  RHS range       [1e+02, 1e+02]\n",
      "Presolve removed 0 rows and 1 columns\n",
      "Presolve time: 0.00s\n",
      "Presolved: 1 rows, 7 columns, 7 nonzeros\n",
      "\n",
      "Iteration    Objective       Primal Inf.    Dual Inf.      Time\n",
      "       0    1.3080000e+03   5.937500e-01   0.000000e+00      0s\n",
      "       1    1.1900000e+03   0.000000e+00   0.000000e+00      0s\n",
      "\n",
      "Solved in 1 iterations and 0.01 seconds\n",
      "Optimal objective  1.190000000e+03\n"
     ]
    }
   ],
   "source": [
    "m.optimize()"
   ]
  },
  {
   "cell_type": "code",
   "execution_count": 23,
   "metadata": {
    "collapsed": false
   },
   "outputs": [
    {
     "name": "stdout",
     "output_type": "stream",
     "text": [
      "item_selected.0 1.0\n",
      "item_selected.1 1.0\n",
      "item_selected.2 0.977777777778\n",
      "item_selected.3 0.0\n",
      "item_selected.4 0.0\n",
      "item_selected.5 0.0\n",
      "item_selected.6 0.0\n",
      "item_selected.7 0.0\n"
     ]
    }
   ],
   "source": [
    "for var in m.getVars():\n",
    "    print var.VarName, var.X"
   ]
  },
  {
   "cell_type": "markdown",
   "metadata": {},
   "source": [
    "We can see that we selected the first two items and 97.7% of the third. What if we aren't allowed to include fractions of items in the knapsack?"
   ]
  },
  {
   "cell_type": "code",
   "execution_count": 24,
   "metadata": {
    "collapsed": false
   },
   "outputs": [],
   "source": [
    "for var in m.getVars():\n",
    "    var.vtype = GRB.BINARY"
   ]
  },
  {
   "cell_type": "code",
   "execution_count": 25,
   "metadata": {
    "collapsed": false
   },
   "outputs": [
    {
     "name": "stdout",
     "output_type": "stream",
     "text": [
      "Optimize a model with 1 rows, 8 columns and 8 nonzeros\n",
      "Coefficient statistics:\n",
      "  Matrix range    [2e+00, 4e+01]\n",
      "  Objective range [5e+00, 4e+02]\n",
      "  Bounds range    [1e+00, 1e+00]\n",
      "  RHS range       [1e+02, 1e+02]\n",
      "Found heuristic solution: objective 858\n",
      "Presolve removed 0 rows and 1 columns\n",
      "Presolve time: 0.00s\n",
      "Presolved: 1 rows, 7 columns, 7 nonzeros\n",
      "Variable types: 0 continuous, 7 integer (6 binary)\n",
      "\n",
      "Root relaxation: objective 1.188571e+03, 1 iterations, 0.00 seconds\n",
      "\n",
      "    Nodes    |    Current Node    |     Objective Bounds      |     Work\n",
      " Expl Unexpl |  Obj  Depth IntInf | Incumbent    BestBd   Gap | It/Node Time\n",
      "\n",
      "     0     0 1188.57143    0    1  858.00000 1188.57143  38.5%     -    0s\n",
      "H    0     0                     888.0000000 1188.57143  33.8%     -    0s\n",
      "H    0     0                     898.0000000 1188.57143  32.4%     -    0s\n",
      "H    0     0                     900.0000000 1188.57143  32.1%     -    0s\n",
      "\n",
      "Cutting planes:\n",
      "  Cover: 1\n",
      "\n",
      "Explored 0 nodes (1 simplex iterations) in 0.01 seconds\n",
      "Thread count was 8 (of 8 available processors)\n",
      "\n",
      "Optimal solution found (tolerance 1.00e-04)\n",
      "Best objective 9.000000000000e+02, best bound 9.000000000000e+02, gap 0.0%\n"
     ]
    }
   ],
   "source": [
    "m.optimize()"
   ]
  },
  {
   "cell_type": "code",
   "execution_count": 26,
   "metadata": {
    "collapsed": false
   },
   "outputs": [
    {
     "name": "stdout",
     "output_type": "stream",
     "text": [
      "item_selected.0 1.0\n",
      "item_selected.1 -0.0\n",
      "item_selected.2 1.0\n",
      "item_selected.3 1.0\n",
      "item_selected.4 1.0\n",
      "item_selected.5 -0.0\n",
      "item_selected.6 1.0\n",
      "item_selected.7 1.0\n"
     ]
    }
   ],
   "source": [
    "for var in m.getVars():\n",
    "    print var.VarName, var.X"
   ]
  },
  {
   "cell_type": "markdown",
   "metadata": {},
   "source": [
    "Now we've really solved an integer program, and it's worth noting that the solution is considerably different than that of the linear programming version of the problem."
   ]
  }
 ],
 "metadata": {
  "kernelspec": {
   "display_name": "Python 2",
   "language": "python",
   "name": "python2"
  },
  "language_info": {
   "codemirror_mode": {
    "name": "ipython",
    "version": 2
   },
   "file_extension": ".py",
   "mimetype": "text/x-python",
   "name": "python",
   "nbconvert_exporter": "python",
   "pygments_lexer": "ipython2",
   "version": "2.7.11"
  }
 },
 "nbformat": 4,
 "nbformat_minor": 0
}
