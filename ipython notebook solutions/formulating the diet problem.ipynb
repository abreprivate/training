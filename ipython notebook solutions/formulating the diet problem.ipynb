{
 "metadata": {
  "name": ""
 },
 "nbformat": 3,
 "nbformat_minor": 0,
 "worksheets": [
  {
   "cells": [
    {
     "cell_type": "markdown",
     "metadata": {},
     "source": [
      "<b> Diet Problem </b>\n",
      "\n",
      "There are 5 types of food and 2 nutrient requirements that we must satisfy at minimum cost. We are given the nutritional content and cost per ounce of each food type."
     ]
    },
    {
     "cell_type": "markdown",
     "metadata": {},
     "source": [
      "<table>\n",
      "<caption>Units of nutrients and cost per ounce</caption>\n",
      "<tr>\n",
      "<th> Food type </th> <th> Iron </th> <th> Calcium </th> <th> Cost </th>\n",
      "</tr>\n",
      "<tr>\n",
      "<th> 1 </th> <th> 2 </th> <th> 0 </th> <th> 20 </th>\n",
      "</tr>\n",
      "<tr>\n",
      "<th> 2 </th> <th> 0 </th> <th> 1 </th> <th> 10 </th>\n",
      "</tr>\n",
      "<tr>\n",
      "<th> 3 </th> <th> 3 </th> <th> 2 </th> <th> 31 </th>\n",
      "</tr>\n",
      "<tr>\n",
      "<th> 4 </th> <th> 1 </th> <th> 2 </th> <th> 11 </th>\n",
      "</tr>\n",
      "<tr>\n",
      "<th> 5 </th> <th> 2 </th> <th> 1 </th> <th> 12 </th>\n",
      "</tr>"
     ]
    },
    {
     "cell_type": "markdown",
     "metadata": {},
     "source": [
      "<b> Diet Problem Formulation </b>\n",
      "<ul> \n",
      "<li> Decision Variables: \n",
      "<ul type=\"square\">\n",
      "<li>$x_j$ = number of ounces of food type $j=1,\\ldots,5$</li>\n",
      "</ul>\n",
      "<li> Objective Function: \n",
      "<ul type=\"square\">\n",
      "<li> min $z = 20 x_1 + 10 x_2 + 31 x_3 + 11 x_4 + 12 x_5$ </li>\n",
      "</ul>\n",
      "</li>\n",
      "<li> Structural Constraints: </li>\n",
      "<ul type=\"square\">\n",
      "<li> $2 x_1 + 0 x_2 + 3 x_3 + 1 x_4 + 2 x_5 \\ge 21$ </li>\n",
      "<li> $0 x_1 + 1 x_2 + 2 x_3 + 2 x_4 + 1 x_5 \\ge 12$ </li>\n",
      "</ul>\n",
      "<li> Nonnegativity constraints\n",
      "<ul type=\"square\">\n",
      "<li> $x_j \\ge 0,j=1,\\ldots,5$ </li>\n",
      "</li>\n",
      "</ul>"
     ]
    },
    {
     "cell_type": "code",
     "collapsed": false,
     "input": [
      "from gurobipy import *"
     ],
     "language": "python",
     "metadata": {},
     "outputs": []
    },
    {
     "cell_type": "markdown",
     "metadata": {},
     "source": [
      "The gurobipy.Model object serves as a repository for all data pertaining to your optimization problem, and provides methods for instantiating decision variables and constraints."
     ]
    },
    {
     "cell_type": "code",
     "collapsed": false,
     "input": [
      "m = Model()"
     ],
     "language": "python",
     "metadata": {},
     "outputs": []
    },
    {
     "cell_type": "markdown",
     "metadata": {},
     "source": [
      "You can name your gurobipy.Model object anything, but we've chosen \"m\" here. This object provides methods to instantiate decision variables (addVar) and structural constraints (addConstr)."
     ]
    },
    {
     "cell_type": "markdown",
     "metadata": {},
     "source": [
      "We'll add the decision variables first using the addVar method. This method takes in a variety of optional parameters and returns a reference to a gurobipy.Var object. You will typically need to save these references in order to build structural constraints later on. Simple bound constraints should be added at this point, but nonnegativity constraints are assumed if no bounds are specified."
     ]
    },
    {
     "cell_type": "code",
     "collapsed": false,
     "input": [
      "x1 = m.addVar(lb=0, ub=GRB.INFINITY, obj=20, vtype=GRB.CONTINUOUS, name='x.1')"
     ],
     "language": "python",
     "metadata": {},
     "outputs": []
    },
    {
     "cell_type": "code",
     "collapsed": false,
     "input": [
      "x2 = m.addVar(obj=10, name='x.2')"
     ],
     "language": "python",
     "metadata": {},
     "outputs": []
    },
    {
     "cell_type": "code",
     "collapsed": false,
     "input": [
      "x3 = m.addVar(obj=31, name='x.3')"
     ],
     "language": "python",
     "metadata": {},
     "outputs": []
    },
    {
     "cell_type": "code",
     "collapsed": false,
     "input": [
      "x4 = m.addVar(obj=11, name='x.4')"
     ],
     "language": "python",
     "metadata": {},
     "outputs": []
    },
    {
     "cell_type": "code",
     "collapsed": false,
     "input": [
      "x5 = m.addVar(obj=12, name='x.5')"
     ],
     "language": "python",
     "metadata": {},
     "outputs": []
    },
    {
     "cell_type": "code",
     "collapsed": false,
     "input": [
      "print x1, x2, x3, x4, x5"
     ],
     "language": "python",
     "metadata": {},
     "outputs": []
    },
    {
     "cell_type": "markdown",
     "metadata": {},
     "source": [
      "Every variable we add expands the size of the model. As a performance enhancement, Gurobi will not officially add variables to the model until you tell the Model object you are done adding variables."
     ]
    },
    {
     "cell_type": "code",
     "collapsed": false,
     "input": [
      "m.update()\n",
      "print x1, x2, x3, x4, x5"
     ],
     "language": "python",
     "metadata": {},
     "outputs": []
    },
    {
     "cell_type": "markdown",
     "metadata": {},
     "source": [
      "Structural constraints involve multiple decision variables. The gurobipy.LinExpr object stores a linear function of decision variables. The + and * operators are overloaded so you can create linear expressions in a natural way."
     ]
    },
    {
     "cell_type": "code",
     "collapsed": false,
     "input": [
      "lhs = 2*x1 + 3*x3 + x4 + 2*x5\n",
      "print lhs"
     ],
     "language": "python",
     "metadata": {},
     "outputs": []
    },
    {
     "cell_type": "markdown",
     "metadata": {},
     "source": [
      "To add a structural constraint, call the addConstr method on a Model object."
     ]
    },
    {
     "cell_type": "code",
     "collapsed": false,
     "input": [
      "iron_constr = m.addConstr(lhs, GRB.GREATER_EQUAL, 21, 'nutrient.iron')"
     ],
     "language": "python",
     "metadata": {},
     "outputs": []
    },
    {
     "cell_type": "markdown",
     "metadata": {},
     "source": [
      "The ==, >=, and <= operators have also been overloaded so that constraints can be written in a natural way."
     ]
    },
    {
     "cell_type": "code",
     "collapsed": false,
     "input": [
      "calcium_constr = m.addConstr(x2 + 2*x3 + 2*x4 + x5 >= 12, 'nutrient.calcium')"
     ],
     "language": "python",
     "metadata": {},
     "outputs": []
    },
    {
     "cell_type": "markdown",
     "metadata": {},
     "source": [
      "When all constraints are created, they can be added to the model in batch by calling the update method."
     ]
    },
    {
     "cell_type": "code",
     "collapsed": false,
     "input": [
      "m.update()"
     ],
     "language": "python",
     "metadata": {},
     "outputs": []
    },
    {
     "cell_type": "markdown",
     "metadata": {},
     "source": [
      "We can optimize at this point, but it is nice to have some assurance that the code we just wrote actually built the model we hope it built. The .lp file format provides a human-readable representation of the model."
     ]
    },
    {
     "cell_type": "code",
     "collapsed": false,
     "input": [
      "m.write('diet.lp')"
     ],
     "language": "python",
     "metadata": {},
     "outputs": []
    },
    {
     "cell_type": "code",
     "collapsed": false,
     "input": [
      "!type diet.lp"
     ],
     "language": "python",
     "metadata": {},
     "outputs": []
    },
    {
     "cell_type": "markdown",
     "metadata": {},
     "source": [
      "If that looks good, we are ready to optimize."
     ]
    },
    {
     "cell_type": "code",
     "collapsed": false,
     "input": [
      "m.optimize()"
     ],
     "language": "python",
     "metadata": {},
     "outputs": []
    },
    {
     "cell_type": "markdown",
     "metadata": {},
     "source": [
      "To view the entire solution we can write it to a file."
     ]
    },
    {
     "cell_type": "code",
     "collapsed": false,
     "input": [
      "m.write('diet.sol')"
     ],
     "language": "python",
     "metadata": {},
     "outputs": []
    },
    {
     "cell_type": "code",
     "collapsed": false,
     "input": [
      "!type diet.sol"
     ],
     "language": "python",
     "metadata": {},
     "outputs": []
    },
    {
     "cell_type": "markdown",
     "metadata": {},
     "source": [
      "In practice, you'll typically interrogate the Var objects to get the solution. You can use the references saved earlier or call the getVars method to iterate over all the decision variables."
     ]
    },
    {
     "cell_type": "code",
     "collapsed": false,
     "input": [
      "print x1.VarName, x1.X\n",
      "print x2.VarName, x2.X\n",
      "print x3.VarName, x3.X\n",
      "print x4.VarName, x4.X\n",
      "print x5.VarName, x5.X"
     ],
     "language": "python",
     "metadata": {},
     "outputs": []
    },
    {
     "cell_type": "code",
     "collapsed": false,
     "input": [
      "for var in m.getVars():\n",
      "    print var.VarName, var.X"
     ],
     "language": "python",
     "metadata": {},
     "outputs": []
    },
    {
     "cell_type": "markdown",
     "metadata": {},
     "source": [
      "The objective value appears in the solution log but can be queried via the Model attribute ObjVal."
     ]
    },
    {
     "cell_type": "code",
     "collapsed": false,
     "input": [
      "print m.ObjVal"
     ],
     "language": "python",
     "metadata": {},
     "outputs": []
    }
   ],
   "metadata": {}
  }
 ]
}