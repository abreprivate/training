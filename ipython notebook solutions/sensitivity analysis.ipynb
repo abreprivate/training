{
 "metadata": {
  "name": ""
 },
 "nbformat": 3,
 "nbformat_minor": 0,
 "worksheets": [
  {
   "cells": [
    {
     "cell_type": "heading",
     "level": 3,
     "metadata": {},
     "source": [
      "Reading a model from file"
     ]
    },
    {
     "cell_type": "markdown",
     "metadata": {},
     "source": [
      "For troubleshooting purposes it can be useful to save a snapshot of the model to a file. That file will follow a certain format based on the filename suffix. The .lp format is human-readable but does not guarantee full precision. The .mps format is not ideal for human consumption but guarantees no precision loss."
     ]
    },
    {
     "cell_type": "code",
     "collapsed": false,
     "input": [
      "from gurobipy import *"
     ],
     "language": "python",
     "metadata": {},
     "outputs": [],
     "prompt_number": 3
    },
    {
     "cell_type": "markdown",
     "metadata": {},
     "source": [
      "The global function \"read\" takes in a filename and returns a gurobipy.Model object."
     ]
    },
    {
     "cell_type": "code",
     "collapsed": false,
     "input": [
      "m = read('diet.lp')"
     ],
     "language": "python",
     "metadata": {},
     "outputs": [],
     "prompt_number": 4
    },
    {
     "cell_type": "code",
     "collapsed": false,
     "input": [
      "m.optimize()"
     ],
     "language": "python",
     "metadata": {},
     "outputs": [
      {
       "output_type": "stream",
       "stream": "stdout",
       "text": [
        "Optimize a model with 2 rows, 5 columns and 8 nonzeros\n"
       ]
      },
      {
       "output_type": "stream",
       "stream": "stdout",
       "text": [
        "Presolve removed 0 rows and 3 columns\n"
       ]
      },
      {
       "output_type": "stream",
       "stream": "stdout",
       "text": [
        "Presolve time: 0.00s\n"
       ]
      },
      {
       "output_type": "stream",
       "stream": "stdout",
       "text": [
        "Presolved: 2 rows, 2 columns, 4 nonzeros\n"
       ]
      },
      {
       "output_type": "stream",
       "stream": "stdout",
       "text": [
        "\n"
       ]
      },
      {
       "output_type": "stream",
       "stream": "stdout",
       "text": [
        "Iteration    Objective       Primal Inf.    Dual Inf.      Time\n"
       ]
      },
      {
       "output_type": "stream",
       "stream": "stdout",
       "text": [
        "       0    0.0000000e+00   1.650000e+01   0.000000e+00      0s\n"
       ]
      },
      {
       "output_type": "stream",
       "stream": "stdout",
       "text": [
        "       2    1.3100000e+02   0.000000e+00   0.000000e+00      0s\n"
       ]
      },
      {
       "output_type": "stream",
       "stream": "stdout",
       "text": [
        "\n"
       ]
      },
      {
       "output_type": "stream",
       "stream": "stdout",
       "text": [
        "Solved in 2 iterations and 0.00 seconds\n"
       ]
      },
      {
       "output_type": "stream",
       "stream": "stdout",
       "text": [
        "Optimal objective  1.310000000e+02\n"
       ]
      }
     ],
     "prompt_number": 5
    },
    {
     "cell_type": "markdown",
     "metadata": {},
     "source": [
      "References to gurobipy.Var objects are not saved from the previous session, but can be reconstituted from their names. We recommend that you follow a consistent naming convention for both variables and constraints so that you will be able to do this in a programmatic way. The convention we follow here is a base name followed by a period-separated list of variable indices."
     ]
    },
    {
     "cell_type": "code",
     "collapsed": false,
     "input": [
      "x1 = m.getVarByName('x.1'); x2 = m.getVarByName('x.2'); x3 = m.getVarByName('x.3'); \n",
      "x4 = m.getVarByName('x.4'); x5 = m.getVarByName('x.5')"
     ],
     "language": "python",
     "metadata": {},
     "outputs": [],
     "prompt_number": 6
    },
    {
     "cell_type": "code",
     "collapsed": false,
     "input": [
      "print x1.X, x2.X, x3.X, x4.X, x5.X"
     ],
     "language": "python",
     "metadata": {},
     "outputs": [
      {
       "output_type": "stream",
       "stream": "stdout",
       "text": [
        "0.0 0.0 0.0 1.0 10.0\n"
       ]
      }
     ],
     "prompt_number": 7
    },
    {
     "cell_type": "markdown",
     "metadata": {},
     "source": [
      "Similarly, references to gurobipy.Constr objects can be reconstituted."
     ]
    },
    {
     "cell_type": "code",
     "collapsed": false,
     "input": [
      "iron_constr = m.getConstrByName('nutrient.iron')\n",
      "calcium_constr = m.getConstrByName('nutrient.calcium')"
     ],
     "language": "python",
     "metadata": {},
     "outputs": [],
     "prompt_number": 8
    },
    {
     "cell_type": "heading",
     "level": 3,
     "metadata": {},
     "source": [
      "Sensitivity Analysis"
     ]
    },
    {
     "cell_type": "markdown",
     "metadata": {},
     "source": [
      "We have built and solved the following linear program:\n",
      "\\begin{eqnarray}\n",
      "\\min_x && z = 20 x_1 + 10 x_2 + 31 x_3 + 11 x_4 + 12 x_5 \\\\\n",
      "\\mbox{s.t.} && 2 x_ 1 + 3 x_3 + x_4 + 2 x_5 \\ge 21 \\\\\n",
      "&& x_2 + 2 x_3 + 2 x_4 + x_5 \\ge 12 \\\\\n",
      "&& x_i \\ge 0,\\;\\;i = 1,\\ldots,5\n",
      "\\end{eqnarray}\n",
      "and obtained an optimal solution of $x^*_1 = x^*_2 = x^*_3 = 0$, $x^*_4 = 1$, $x^*_5 = 10$ that satisfies the nutrient requirements at a minimum cost of $z^* = 131$. \n",
      "\n",
      "We can interpret the right-hand sides of the structural constraints as resource requirements. In the case of the diet problem, the resouces in question are nutrients. Gurobi automatically computes the marginal cost of each resource, which you can access via the Pi attribute of the Constr object."
     ]
    },
    {
     "cell_type": "code",
     "collapsed": false,
     "input": [
      "print iron_constr.Pi, calcium_constr.Pi"
     ],
     "language": "python",
     "metadata": {},
     "outputs": [
      {
       "output_type": "stream",
       "stream": "stdout",
       "text": [
        "4.33333333333 3.33333333333\n"
       ]
      }
     ],
     "prompt_number": 9
    },
    {
     "cell_type": "markdown",
     "metadata": {},
     "source": [
      "This value is known as the dual value, or shadow price, of the constraint. The interpretation here is that to add an additional unit of iron to your diet (in addition to the 21 units already required) will cost $4 \\frac{1}{3}$. Similarly, an additional unit of calcium will cost $3 \\frac{1}{3}$. The dual value of a constraint can be thought of as the price of the underlying resource. That is, if someone was selling iron (calcium) supplements, the highest price you'd be willing to pay is $4 \\frac{1}{3}$ ($3 \\frac{1}{3}$) per unit. Gurobi gives you this sensitivity information effectively for free because it uses the dual values to prove optimality.\n",
      "\n",
      "Formally, if we parameterize the $i$th nutrient requirement as $b_i$, then $\\pi^*_i = \\frac{\\partial{z^*}}{\\partial b_i}$.\n",
      "\n",
      "But, you don't have to take my word for it. We can verify this by actually changing the right-hand side of the constraint and reoptimizing. Each Constr object has a settable attribute RHS that lets you change its right-hand side."
     ]
    },
    {
     "cell_type": "heading",
     "level": 4,
     "metadata": {},
     "source": [
      "Exercise: \n",
      "\n",
      "Suppose we increase the iron requirement by 0.1 units. What is the optimal cost of the new diet?"
     ]
    },
    {
     "cell_type": "code",
     "collapsed": false,
     "input": [
      "# First predict the optimal cost of the new diet\n",
      "new_cost = m.ObjVal + 0.1*iron_constr.Pi\n",
      "print new_cost"
     ],
     "language": "python",
     "metadata": {},
     "outputs": [
      {
       "output_type": "stream",
       "stream": "stdout",
       "text": [
        "131.433333333\n"
       ]
      }
     ],
     "prompt_number": 10
    },
    {
     "cell_type": "code",
     "collapsed": false,
     "input": [
      "# Change the RHS of the iron constraint and reoptimize\n",
      "iron_constr.RHS = 21.1\n",
      "m.optimize()"
     ],
     "language": "python",
     "metadata": {},
     "outputs": [
      {
       "output_type": "stream",
       "stream": "stdout",
       "text": [
        "Optimize a model with 2 rows, 5 columns and 8 nonzeros\n"
       ]
      },
      {
       "output_type": "stream",
       "stream": "stdout",
       "text": [
        "Iteration    Objective       Primal Inf.    Dual Inf.      Time\n"
       ]
      },
      {
       "output_type": "stream",
       "stream": "stdout",
       "text": [
        "       0    1.3143333e+02   0.000000e+00   0.000000e+00      0s\n"
       ]
      },
      {
       "output_type": "stream",
       "stream": "stdout",
       "text": [
        "\n"
       ]
      },
      {
       "output_type": "stream",
       "stream": "stdout",
       "text": [
        "Solved in 0 iterations and 0.00 seconds\n"
       ]
      },
      {
       "output_type": "stream",
       "stream": "stdout",
       "text": [
        "Optimal objective  1.314333333e+02\n"
       ]
      }
     ],
     "prompt_number": 11
    },
    {
     "cell_type": "code",
     "collapsed": false,
     "input": [
      "print new_cost, m.ObjVal"
     ],
     "language": "python",
     "metadata": {},
     "outputs": [
      {
       "output_type": "stream",
       "stream": "stdout",
       "text": [
        "131.433333333 131.433333333\n"
       ]
      }
     ],
     "prompt_number": 12
    },
    {
     "cell_type": "heading",
     "level": 3,
     "metadata": {},
     "source": [
      "Proving Optimality"
     ]
    },
    {
     "cell_type": "markdown",
     "metadata": {},
     "source": [
      "How exactly does Gurobi use these dual values s to prove optimality? Consider food type 1, which costs 20 per ounce and provides 2 units of iron. The price of iron as implied by the dual value is $4 \\frac{1}{3}$. So the effective cost of food type 1 can be computed as:"
     ]
    },
    {
     "cell_type": "code",
     "collapsed": false,
     "input": [
      "20 - 2*iron_constr.Pi"
     ],
     "language": "python",
     "metadata": {},
     "outputs": [
      {
       "metadata": {},
       "output_type": "pyout",
       "prompt_number": 13,
       "text": [
        "11.333333333333334"
       ]
      }
     ],
     "prompt_number": 13
    },
    {
     "cell_type": "markdown",
     "metadata": {},
     "source": [
      "This is the so-called \"reduced cost\" of $x_1$. The interpretation is that even taking into account the value of the nutrients it provides, food type 1 is overpriced by $11 \\frac{1}{3}$."
     ]
    },
    {
     "cell_type": "heading",
     "level": 4,
     "metadata": {},
     "source": [
      "Exercise: Compute the reduced costs of the other four food types."
     ]
    },
    {
     "cell_type": "code",
     "collapsed": false,
     "input": [
      "# Food type 2 costs 10 per ounce and provides 1 unit of calcium.\n",
      "10 - calcium_constr.Pi"
     ],
     "language": "python",
     "metadata": {},
     "outputs": [
      {
       "metadata": {},
       "output_type": "pyout",
       "prompt_number": 14,
       "text": [
        "6.666666666666666"
       ]
      }
     ],
     "prompt_number": 14
    },
    {
     "cell_type": "code",
     "collapsed": false,
     "input": [
      "# Food type 3 costs 31 per ounce and provides 3 units of iron and 2 of calcium\n",
      "31 - 3*iron_constr.Pi - 2*calcium_constr.Pi"
     ],
     "language": "python",
     "metadata": {},
     "outputs": [
      {
       "metadata": {},
       "output_type": "pyout",
       "prompt_number": 15,
       "text": [
        "11.333333333333332"
       ]
      }
     ],
     "prompt_number": 15
    },
    {
     "cell_type": "code",
     "collapsed": false,
     "input": [
      "# Food type 4 costs 11 per ounce and provides 1 unit of iron and 2 of calcium\n",
      "11 - iron_constr.Pi - 2*calcium_constr.Pi"
     ],
     "language": "python",
     "metadata": {},
     "outputs": [
      {
       "metadata": {},
       "output_type": "pyout",
       "prompt_number": 16,
       "text": [
        "-8.881784197001252e-16"
       ]
      }
     ],
     "prompt_number": 16
    },
    {
     "cell_type": "code",
     "collapsed": false,
     "input": [
      "# Food type 5 costs 12 per ounce and provides 2 units of iron and 1 of calcium\n",
      "12 - 2*iron_constr.Pi - calcium_constr.Pi"
     ],
     "language": "python",
     "metadata": {},
     "outputs": [
      {
       "metadata": {},
       "output_type": "pyout",
       "prompt_number": 17,
       "text": [
        "0.0"
       ]
      }
     ],
     "prompt_number": 17
    },
    {
     "cell_type": "heading",
     "level": 3,
     "metadata": {},
     "source": [
      "More on reduced costs"
     ]
    },
    {
     "cell_type": "markdown",
     "metadata": {},
     "source": [
      "Recall that the constraints in an optimization model are catagorized as structural constraints if they involve functions of more than one variable and as simple bound constraints if they involve only a single variable. The dual values give us sensitivity information on the structural constraints. Specifically, they tell us how much the objective will change if we increase the right-hand side of a constraint by 1. The reduced costs perform the same sensitivity analysis role on the simple bound constraints (in this case, nonnegativity constraints).\n",
      "\n",
      "For example, the reduced cost of $x_1$ is $11 \\frac{1}{3}$. Our optimal diet didn't include food type 1 because it was overpriced. The reduced cost tells us that if we were forced to include at least 1 ounce of food type 1 in our diet, that the cost would increase by $11 \\frac{1}{3}$. We can change the lower bound on a decision variable by setting the LB attribute of the corresponding Var object. And, Gurobi has actually already computed the reduced costs for us. They can be accessed via the RC attribute of the Var object."
     ]
    },
    {
     "cell_type": "code",
     "collapsed": false,
     "input": [
      "for var in m.getVars():\n",
      "    print var.VarName, var.RC"
     ],
     "language": "python",
     "metadata": {},
     "outputs": [
      {
       "output_type": "stream",
       "stream": "stdout",
       "text": [
        "x.1 11.3333333333\n",
        "x.2 6.66666666667\n",
        "x.3 11.3333333333\n",
        "x.4 0.0\n",
        "x.5 0.0\n"
       ]
      }
     ],
     "prompt_number": 19
    },
    {
     "cell_type": "heading",
     "level": 4,
     "metadata": {},
     "source": [
      "Exercise: Use the reduced cost of $x_1$ to predict the minimum cost of a diet that was forced to include at least 0.1 ounces of food type 1. Change the lower bound of $x_1$ to 0.1 and reoptimize to verify your calculation."
     ]
    },
    {
     "cell_type": "code",
     "collapsed": false,
     "input": [
      "# Predict the new cost of the diet\n",
      "m.ObjVal + 0.1*x1.RC"
     ],
     "language": "python",
     "metadata": {},
     "outputs": [
      {
       "metadata": {},
       "output_type": "pyout",
       "prompt_number": 18,
       "text": [
        "132.56666666666666"
       ]
      }
     ],
     "prompt_number": 18
    },
    {
     "cell_type": "code",
     "collapsed": false,
     "input": [
      "# Adjust the lower bound of x1 and reoptimize\n",
      "x1.LB = 0.1\n",
      "m.optimize()"
     ],
     "language": "python",
     "metadata": {},
     "outputs": [
      {
       "output_type": "stream",
       "stream": "stdout",
       "text": [
        "Optimize a model with 2 rows, 5 columns and 8 nonzeros\n"
       ]
      },
      {
       "output_type": "stream",
       "stream": "stdout",
       "text": [
        "       0    1.3256667e+02   0.000000e+00   0.000000e+00      0s\n"
       ]
      },
      {
       "output_type": "stream",
       "stream": "stdout",
       "text": [
        "\n"
       ]
      },
      {
       "output_type": "stream",
       "stream": "stdout",
       "text": [
        "Solved in 0 iterations and 0.00 seconds\n"
       ]
      },
      {
       "output_type": "stream",
       "stream": "stdout",
       "text": [
        "Optimal objective  1.325666667e+02\n"
       ]
      }
     ],
     "prompt_number": 20
    },
    {
     "cell_type": "code",
     "collapsed": false,
     "input": [
      "print m.ObjVal"
     ],
     "language": "python",
     "metadata": {},
     "outputs": [
      {
       "output_type": "stream",
       "stream": "stdout",
       "text": [
        "132.566666667\n"
       ]
      }
     ],
     "prompt_number": 21
    },
    {
     "cell_type": "heading",
     "level": 4,
     "metadata": {},
     "source": [
      "Exercise: Restore the bounds and right-hand sides of the model to their original values and reoptimize. Iterate over all variables and for each print out the variable name, optimal value, and reduced cost. What do you observe?"
     ]
    },
    {
     "cell_type": "code",
     "collapsed": false,
     "input": [
      "x1.LB = 0\n",
      "iron_constr.RHS = 21\n",
      "m.optimize()"
     ],
     "language": "python",
     "metadata": {},
     "outputs": [
      {
       "output_type": "stream",
       "stream": "stdout",
       "text": [
        "Optimize a model with 2 rows, 5 columns and 8 nonzeros\n"
       ]
      },
      {
       "output_type": "stream",
       "stream": "stdout",
       "text": [
        "Iteration    Objective       Primal Inf.    Dual Inf.      Time\n"
       ]
      },
      {
       "output_type": "stream",
       "stream": "stdout",
       "text": [
        "       0    1.3100000e+02   0.000000e+00   0.000000e+00      0s\n"
       ]
      },
      {
       "output_type": "stream",
       "stream": "stdout",
       "text": [
        "\n"
       ]
      },
      {
       "output_type": "stream",
       "stream": "stdout",
       "text": [
        "Solved in 0 iterations and 0.00 seconds\n"
       ]
      },
      {
       "output_type": "stream",
       "stream": "stdout",
       "text": [
        "Optimal objective  1.310000000e+02\n"
       ]
      }
     ],
     "prompt_number": 22
    },
    {
     "cell_type": "code",
     "collapsed": false,
     "input": [
      "for var in m.getVars():\n",
      "    print var.VarName, var.X, var.RC"
     ],
     "language": "python",
     "metadata": {},
     "outputs": [
      {
       "output_type": "stream",
       "stream": "stdout",
       "text": [
        "x.1 0.0 11.3333333333\n",
        "x.2 0.0 6.66666666667\n",
        "x.3 0.0 11.3333333333\n",
        "x.4 1.0 0.0\n",
        "x.5 10.0 0.0\n"
       ]
      }
     ],
     "prompt_number": 23
    }
   ],
   "metadata": {}
  }
 ]
}