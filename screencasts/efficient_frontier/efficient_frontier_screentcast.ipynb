{
 "metadata": {
  "celltoolbar": "Slideshow",
  "name": "",
  "signature": "sha256:21f67d2e02718b7ef1f68461060a89e16aaf43ba9ce8e3e9a8aac1badfb146f2"
 },
 "nbformat": 3,
 "nbformat_minor": 0,
 "worksheets": [
  {
   "cells": [
    {
     "cell_type": "markdown",
     "metadata": {
      "slideshow": {
       "slide_type": "slide"
      }
     },
     "source": [
      "**Multiple Objectives in Gurobi**\n",
      "\n",
      "Graphing the efficient frontier \n",
      "\n",
      "<img src=\"abremodlogo.png\" alt=\"Drawing\" style=\"width: 100px;\"/>\n",
      "\n",
      "*www.abremod.com*"
     ]
    },
    {
     "cell_type": "markdown",
     "metadata": {
      "slideshow": {
       "slide_type": "notes"
      }
     },
     "source": [
      "This is an Abremod screencast on one approach to working with multiple objectives in Gurobi.  Specifically exploring the efficient frontier over two distinct objective functions."
     ]
    },
    {
     "cell_type": "markdown",
     "metadata": {
      "slideshow": {
       "slide_type": "slide"
      }
     },
     "source": [
      "**Applications**\n",
      "- Present alternatives to decision makers\n",
      "- Improve solutions by using secondary criteria\n",
      "- Optimize a ratio\n",
      "- Combine goals\n",
      "  - Can't all be put into dollars\n",
      "  - Relative importance isn't fixed\n",
      "  - Nonlinear relationships\n",
      "- Reduce fluctations in coeffients\n",
      "  - Improve numerical stability\n",
      "  - Avoid abritrary values"
     ]
    },
    {
     "cell_type": "markdown",
     "metadata": {
      "slideshow": {
       "slide_type": "slide"
      }
     },
     "source": [
      "**Contents**\n",
      "- Build and solve an LP model with gurobipy\n",
      "- Query and interpret sentivity data\n",
      "  - Pi\n",
      "    - dual, shadow or bid price\n",
      "  - SA Obj|UB|LB Up|Low\n",
      "- Work with multiple objectives\n",
      "  - Define Pareto Optimality\n",
      "  - Efficient Frontiers"
     ]
    },
    {
     "cell_type": "markdown",
     "metadata": {
      "slideshow": {
       "slide_type": "slide"
      }
     },
     "source": [
      "This notebook demonstrates how to create an efficient frontier curve over two objective functions with Gurobi.\n",
      "- Graph the sensitivity of the main objective to a single constraint.\n",
      "- Combining objectives that can't be converted to a dollars.\n",
      "\n",
      "We will cover\n",
      "- implementing a soft constraints\n",
      "- querying a model after the optimization\n",
      "  - variable values\n",
      "  - shadow prices\n",
      "  - Other Sensitivity attributes\n"
     ]
    },
    {
     "cell_type": "markdown",
     "metadata": {
      "slideshow": {
       "slide_type": "slide"
      }
     },
     "source": [
      "**Import Gurobi API**\n",
      "- Use 'grb' alias instead of using an `import *`\n",
      "- Use the GRB as an alias for grb.GRB."
     ]
    },
    {
     "cell_type": "code",
     "collapsed": false,
     "input": [
      "import gurobipy as grb\n",
      "GRB = grb.GRB\n",
      "import math\n",
      "from collections import OrderedDict\n",
      "from itertools import izip, product"
     ],
     "language": "python",
     "metadata": {
      "slideshow": {
       "slide_type": "fragment"
      }
     },
     "outputs": [],
     "prompt_number": 2
    },
    {
     "cell_type": "markdown",
     "metadata": {
      "slideshow": {
       "slide_type": "slide"
      }
     },
     "source": [
      "**Distance**\n",
      "- Utility cost function"
     ]
    },
    {
     "cell_type": "code",
     "collapsed": false,
     "input": [
      "def crow_flies_distance(geocode1, geocode2):\n",
      "    \"\"\"Gives the distance between two points on earth.\n",
      "    \"\"\"\n",
      "    # convert to radians\n",
      "    latitude1, longitude1 = [math.radians(c) for c in geocode1]\n",
      "    latitude2, longitude2 = [math.radians(c) for c in geocode2]\n",
      "    distance_radians=2*math.asin(math.sqrt(math.pow((math.sin((latitude1-latitude2)/2)),2)\n",
      "                                           + math.cos(latitude1)*math.cos(latitude2)\n",
      "                                           *math.pow((math.sin((longitude1-longitude2)/2)),2)))\n",
      "    radius_earth = 3959.0\n",
      "    distance_miles = radius_earth * distance_radians\n",
      "    return distance_miles\n"
     ],
     "language": "python",
     "metadata": {
      "slideshow": {
       "slide_type": "fragment"
      }
     },
     "outputs": [],
     "prompt_number": 3
    },
    {
     "cell_type": "markdown",
     "metadata": {
      "slideshow": {
       "slide_type": "slide"
      }
     },
     "source": [
      "**Data** for the basic transportation model\n",
      "- Capacities of each plant\n",
      "- Demand of each customer"
     ]
    },
    {
     "cell_type": "code",
     "collapsed": false,
     "input": [
      "# define the base problem data\n",
      "capacities = [35, 28, 24, 25]\n",
      "demands = [20, 22, 17, 19, 18]\n",
      "\n",
      "plants = {'Austin': (30.25, -96.75), \n",
      "          'Dallas':  (32.77, -96.7967),\n",
      "          'El Paso': (31.79, -106.42),\n",
      "          'Houston': (29.76, -95.38)  \n",
      "          }\n",
      "\n",
      "customers = {'Fort Worth': (32.76, -97.33),\n",
      "            'Lubbock': (33.56, -101.88),\n",
      "            'Norman': (35.2200, -97.44), \n",
      "            'Odessa': (31.86, -102.36),\n",
      "            'San Antonio': (29.41, -98.50)}\n",
      "\n",
      "# TODO: make this less distracting\n",
      "# perhaps with NamedTuples instead of parallel lists\n",
      "plants = OrderedDict(sorted(plants.iteritems()))\n",
      "customers = OrderedDict(sorted(customers.iteritems()))\n",
      "capacities = {plant: capacity for plant, capacity in izip(plants, capacities)}\n",
      "demands = {customer: demand for customer, demand in izip(customers, demands)}\n",
      "ship_costs = {}\n",
      "for p, plant_loc in plants.iteritems():\n",
      "    for c, cust_loc in customers.iteritems():\n",
      "        ship_costs[p,c] = crow_flies_distance(plant_loc, cust_loc)\n",
      "        print \"distance from %12s to %12s is %4d\" % (p, c, ship_costs[p,c])\n",
      "demands.keys()"
     ],
     "language": "python",
     "metadata": {
      "slideshow": {
       "slide_type": "fragment"
      }
     },
     "outputs": [
      {
       "output_type": "stream",
       "stream": "stdout",
       "text": [
        "distance from       Austin to   Fort Worth is  176\n",
        "distance from       Austin to      Lubbock is  377\n",
        "distance from       Austin to       Norman is  345\n",
        "distance from       Austin to       Odessa is  350\n",
        "distance from       Austin to  San Antonio is  119\n",
        "distance from       Dallas to   Fort Worth is   30\n",
        "distance from       Dallas to      Lubbock is  299\n",
        "distance from       Dallas to       Norman is  173\n",
        "distance from       Dallas to       Odessa is  330\n",
        "distance from       Dallas to  San Antonio is  253\n",
        "distance from      El Paso to   Fort Worth is  535\n",
        "distance from      El Paso to      Lubbock is  290\n",
        "distance from      El Paso to       Norman is  568\n",
        "distance from      El Paso to       Odessa is  238\n",
        "distance from      El Paso to  San Antonio is  498\n",
        "distance from      Houston to   Fort Worth is  237\n",
        "distance from      Houston to      Lubbock is  463\n",
        "distance from      Houston to       Norman is  395\n",
        "distance from      Houston to       Odessa is  438\n",
        "distance from      Houston to  San Antonio is  189\n"
       ]
      },
      {
       "metadata": {},
       "output_type": "pyout",
       "prompt_number": 4,
       "text": [
        "['San Antonio', 'Lubbock', 'Odessa', 'Fort Worth', 'Norman']"
       ]
      }
     ],
     "prompt_number": 4
    },
    {
     "cell_type": "markdown",
     "metadata": {
      "slideshow": {
       "slide_type": "slide"
      }
     },
     "source": [
      "**Define** the basic transportation model in gurobi\n",
      "\n",
      "**Variables**\n",
      "\n",
      "- ${\\rm ship}_{pc}$ -- amount shipped from each plant to each customer\n",
      "- ${\\rm short}_{c}$ -- amount each customer is short\n",
      "\n",
      "**Constraints**\n",
      "\n",
      "- $\\sum_c {\\rm ship}_{pc} \\le {\\rm capacity}_p, \\ \\forall p$\n",
      "- $\\sum_p {\\rm ship}_{pc} + {\\rm short}_c \\ge {\\rm demand}_c, \\ \\forall c$\n",
      "\n",
      "**API calls**\n",
      "\n",
      "| Method  \t| Description  \t|\n",
      "|---\t|---\t|\n",
      "| Model  \t|  Creates a Fresh Model Instance \t|\n",
      "| addVar  \t| Creates a variable in the Model  \t|\n",
      "| addConstr  \t| adds a structural constraint\t|\n"
     ]
    },
    {
     "cell_type": "code",
     "collapsed": false,
     "input": [
      "# define the base gurobi model\n",
      "epsilon = 1e-5\n",
      "m = grb.Model()\n",
      "ship = {(plant, customer): m.addVar(obj = ship_costs[plant,customer],\n",
      "                          name = \"ship.%s.%s\" % (plant, customer) )\n",
      "                        for plant in plants \n",
      "                        for customer in customers}\n",
      "shortage = {customer: m.addVar(name=\"shortage.%s\" % (customer)) \n",
      "            for customer in customers}\n",
      "m.update()\n",
      "for customer in customers:\n",
      "    shipped_to_customer = grb.quicksum(ship[plant, customer] \n",
      "                                       for plant in plants)\n",
      "    m.addConstr(shipped_to_customer + shortage[customer] >= demands[customer], \n",
      "                name='shortdef.%s' % (customer))\n",
      "\n",
      "for plant in plants:\n",
      "    shipped_from_plant = grb.quicksum(ship[plant, customer]\n",
      "                                      for customer in customers)\n",
      "    m.addConstr(shipped_from_plant <= capacities[plant],\n",
      "                name='capacity.%s' % (plant))\n",
      "m.update()"
     ],
     "language": "python",
     "metadata": {
      "slideshow": {
       "slide_type": "fragment"
      }
     },
     "outputs": [],
     "prompt_number": 5
    },
    {
     "cell_type": "code",
     "collapsed": false,
     "input": [
      "total_short_constr = m.addConstr(grb.quicksum(shortage.itervalues()) <= 0, name=\"total_short\")\n",
      "m.update()"
     ],
     "language": "python",
     "metadata": {
      "slideshow": {
       "slide_type": "slide"
      }
     },
     "outputs": [],
     "prompt_number": 6
    },
    {
     "cell_type": "code",
     "collapsed": false,
     "input": [
      "m.optimize()\n",
      "nzs = [(v.varName, v.X, v.Obj) for v in m.getVars() if v.X > 1e-6]\n",
      "for p in plants:\n",
      "    for c in customers:\n",
      "        s = ship[p,c]\n",
      "        if s.X > epsilon:\n",
      "            print \"ship %4d units from %s to %s at cost of $%d\" % (s.X, p, c, s.X * s.Obj)"
     ],
     "language": "python",
     "metadata": {
      "slideshow": {
       "slide_type": "fragment"
      }
     },
     "outputs": [
      {
       "output_type": "stream",
       "stream": "stdout",
       "text": [
        "Optimize a model with 10 rows, 25 columns and 50 nonzeros\n"
       ]
      },
      {
       "output_type": "stream",
       "stream": "stdout",
       "text": [
        "Coefficient statistics:\n"
       ]
      },
      {
       "output_type": "stream",
       "stream": "stdout",
       "text": [
        "  Matrix range    [1e+00, 1e+00]\n"
       ]
      },
      {
       "output_type": "stream",
       "stream": "stdout",
       "text": [
        "  Objective range [3e+01, 6e+02]\n"
       ]
      },
      {
       "output_type": "stream",
       "stream": "stdout",
       "text": [
        "  Bounds range    [0e+00, 0e+00]\n"
       ]
      },
      {
       "output_type": "stream",
       "stream": "stdout",
       "text": [
        "  RHS range       [2e+01, 4e+01]\n"
       ]
      },
      {
       "output_type": "stream",
       "stream": "stdout",
       "text": [
        "Presolve removed 1 rows and 5 columns\n"
       ]
      },
      {
       "output_type": "stream",
       "stream": "stdout",
       "text": [
        "Presolve time: 0.01s\n"
       ]
      },
      {
       "output_type": "stream",
       "stream": "stdout",
       "text": [
        "Presolved: 9 rows, 20 columns, 40 nonzeros\n"
       ]
      },
      {
       "output_type": "stream",
       "stream": "stdout",
       "text": [
        "\n"
       ]
      },
      {
       "output_type": "stream",
       "stream": "stdout",
       "text": [
        "Iteration    Objective       Primal Inf.    Dual Inf.      Time\n"
       ]
      },
      {
       "output_type": "stream",
       "stream": "stdout",
       "text": [
        "       0    0.0000000e+00   9.600000e+01   0.000000e+00      0s\n"
       ]
      },
      {
       "output_type": "stream",
       "stream": "stdout",
       "text": [
        "       9    1.9986561e+04   0.000000e+00   0.000000e+00      0s\n"
       ]
      },
      {
       "output_type": "stream",
       "stream": "stdout",
       "text": [
        "\n"
       ]
      },
      {
       "output_type": "stream",
       "stream": "stdout",
       "text": [
        "Solved in 9 iterations and 0.02 seconds\n"
       ]
      },
      {
       "output_type": "stream",
       "stream": "stdout",
       "text": [
        "Optimal objective  1.998656087e+04\n"
       ]
      },
      {
       "output_type": "stream",
       "stream": "stdout",
       "text": [
        "ship   17 units from Austin to Lubbock at cost of $6423\n",
        "ship   18 units from Austin to San Antonio at cost of $2157\n",
        "ship   11 units from Dallas to Fort Worth at cost of $340\n",
        "ship   17 units from Dallas to Norman at cost of $2945\n",
        "ship    5 units from El Paso to Lubbock at cost of $1454\n",
        "ship   19 units from El Paso to Odessa at cost of $4529\n",
        "ship    9 units from Houston to Fort Worth at cost of $2134\n"
       ]
      }
     ],
     "prompt_number": 7
    },
    {
     "cell_type": "markdown",
     "metadata": {
      "slideshow": {
       "slide_type": "slide"
      }
     },
     "source": [
      "**Setup for efficient frontier**\n",
      "- Initialize variables to store the efficient frontier.\n",
      "- eff_frontier will list\n",
      "  - shipping cost\n",
      "  - shortfall\n",
      "  - marginal value of increasing shortfall (Pi)\n",
      "  - depth of the marginal value (SARHSUp)"
     ]
    },
    {
     "cell_type": "code",
     "collapsed": false,
     "input": [
      "m.setParam(GRB.Param.OutputFlag, 0)\n",
      "eff_frontier = []"
     ],
     "language": "python",
     "metadata": {
      "slideshow": {
       "slide_type": "fragment"
      }
     },
     "outputs": [],
     "prompt_number": 8
    },
    {
     "cell_type": "markdown",
     "metadata": {
      "slideshow": {
       "slide_type": "slide"
      }
     },
     "source": [
      "**Generate Efficient Frontier**\n",
      "- Optimize\n",
      "- Query and record Values\n",
      "- Adjust Model to get next point\n",
      "- Stop when the slope becomes flat"
     ]
    },
    {
     "cell_type": "code",
     "collapsed": false,
     "input": [
      "while True:\n",
      "    m.optimize()\n",
      "    expensive_arc = max([(v.varName, v.X, v.Obj) for v in m.getVars() if v.X > epsilon], \n",
      "                          key=lambda x: x[2])\n",
      "    eff_frontier.append((m.obj_val, total_short_constr.rhs, \n",
      "                         total_short_constr.Pi, total_short_constr.SARHSUp, expensive_arc))\n",
      "    total_short_constr.rhs = total_short_constr.SARHSUp + epsilon\n",
      "    if total_short_constr.Pi > -epsilon:\n",
      "        break"
     ],
     "language": "python",
     "metadata": {
      "slideshow": {
       "slide_type": "fragment"
      }
     },
     "outputs": [],
     "prompt_number": 9
    },
    {
     "cell_type": "markdown",
     "metadata": {
      "slideshow": {
       "slide_type": "slide"
      }
     },
     "source": [
      "**Plot**"
     ]
    },
    {
     "cell_type": "code",
     "collapsed": false,
     "input": [
      "%matplotlib inline\n",
      "import matplotlib.pyplot as plt\n",
      "import numpy as np\n",
      "import pandas as pd\n",
      "eff_frontier = pd.DataFrame(eff_frontier, \n",
      "                            columns=('cost', 'shortfall', 'pi', 'sarhsup', 'expensive_arc'))\n",
      "eff_frontier.replace(GRB.INFINITY, np.inf, inplace=True)\n",
      "eff_frontier.plot('shortfall', 'cost', marker='o', )"
     ],
     "language": "python",
     "metadata": {
      "slideshow": {
       "slide_type": "fragment"
      }
     },
     "outputs": [
      {
       "metadata": {},
       "output_type": "pyout",
       "prompt_number": 10,
       "text": [
        "<matplotlib.axes._subplots.AxesSubplot at 0x7fdcca1bcad0>"
       ]
      },
      {
       "metadata": {},
       "output_type": "display_data",
       "png": "[encoded data removed]",
       "text": [
        "<matplotlib.figure.Figure at 0x7fdcca1bc7d0>"
       ]
      }
     ],
     "prompt_number": 10
    },
    {
     "cell_type": "code",
     "collapsed": false,
     "input": [
      "eff_frontier"
     ],
     "language": "python",
     "metadata": {
      "slideshow": {
       "slide_type": "slide"
      }
     },
     "outputs": [
      {
       "html": [
        "<div style=\"max-height:1000px;max-width:1500px;overflow:auto;\">\n",
        "<table border=\"1\" class=\"dataframe\">\n",
        "  <thead>\n",
        "    <tr style=\"text-align: right;\">\n",
        "      <th></th>\n",
        "      <th>cost</th>\n",
        "      <th>shortfall</th>\n",
        "      <th>pi</th>\n",
        "      <th>sarhsup</th>\n",
        "      <th>expensive_arc</th>\n",
        "    </tr>\n",
        "  </thead>\n",
        "  <tbody>\n",
        "    <tr>\n",
        "      <th>0</th>\n",
        "      <td> 19986.560870</td>\n",
        "      <td>  0.00000</td>\n",
        "      <td>-438.236861</td>\n",
        "      <td>  9.000000</td>\n",
        "      <td>        (ship.Austin.Lubbock, 17.0, 377.876427276)</td>\n",
        "    </tr>\n",
        "    <tr>\n",
        "      <th>1</th>\n",
        "      <td> 16042.425343</td>\n",
        "      <td>  9.00001</td>\n",
        "      <td>-377.876427</td>\n",
        "      <td> 17.000000</td>\n",
        "      <td>     (ship.Austin.Lubbock, 7.99999, 377.876427276)</td>\n",
        "    </tr>\n",
        "    <tr>\n",
        "      <th>2</th>\n",
        "      <td> 13019.414513</td>\n",
        "      <td> 17.00001</td>\n",
        "      <td>-319.025740</td>\n",
        "      <td> 26.000000</td>\n",
        "      <td>        (ship.El Paso.Lubbock, 5.0, 290.966961767)</td>\n",
        "    </tr>\n",
        "    <tr>\n",
        "      <th>3</th>\n",
        "      <td> 10148.183136</td>\n",
        "      <td> 26.00001</td>\n",
        "      <td>-290.966962</td>\n",
        "      <td> 31.000000</td>\n",
        "      <td>    (ship.El Paso.Lubbock, 4.99999, 290.966961767)</td>\n",
        "    </tr>\n",
        "    <tr>\n",
        "      <th>4</th>\n",
        "      <td>  8693.348853</td>\n",
        "      <td> 31.00001</td>\n",
        "      <td>-238.396305</td>\n",
        "      <td> 50.000000</td>\n",
        "      <td>    (ship.El Paso.Odessa, 18.99999, 238.396305228)</td>\n",
        "    </tr>\n",
        "    <tr>\n",
        "      <th>5</th>\n",
        "      <td>  4163.819705</td>\n",
        "      <td> 50.00001</td>\n",
        "      <td>-173.252603</td>\n",
        "      <td> 58.000000</td>\n",
        "      <td>      (ship.Dallas.Norman, 7.99999, 173.252603214)</td>\n",
        "    </tr>\n",
        "    <tr>\n",
        "      <th>6</th>\n",
        "      <td>  2777.799413</td>\n",
        "      <td> 58.00001</td>\n",
        "      <td>-119.883900</td>\n",
        "      <td> 76.000000</td>\n",
        "      <td> (ship.Austin.San Antonio, 17.99999, 119.883899...</td>\n",
        "    </tr>\n",
        "    <tr>\n",
        "      <th>7</th>\n",
        "      <td>   619.890110</td>\n",
        "      <td> 76.00001</td>\n",
        "      <td> -30.994521</td>\n",
        "      <td> 96.000000</td>\n",
        "      <td> (ship.Dallas.Fort Worth, 19.99999, 30.9945210099)</td>\n",
        "    </tr>\n",
        "    <tr>\n",
        "      <th>8</th>\n",
        "      <td>     0.000000</td>\n",
        "      <td> 96.00001</td>\n",
        "      <td>   0.000000</td>\n",
        "      <td>       inf</td>\n",
        "      <td>                  (shortage.Fort Worth, 20.0, 0.0)</td>\n",
        "    </tr>\n",
        "  </tbody>\n",
        "</table>\n",
        "</div>"
       ],
       "metadata": {},
       "output_type": "pyout",
       "prompt_number": 11,
       "text": [
        "           cost  shortfall          pi    sarhsup  \\\n",
        "0  19986.560870    0.00000 -438.236861   9.000000   \n",
        "1  16042.425343    9.00001 -377.876427  17.000000   \n",
        "2  13019.414513   17.00001 -319.025740  26.000000   \n",
        "3  10148.183136   26.00001 -290.966962  31.000000   \n",
        "4   8693.348853   31.00001 -238.396305  50.000000   \n",
        "5   4163.819705   50.00001 -173.252603  58.000000   \n",
        "6   2777.799413   58.00001 -119.883900  76.000000   \n",
        "7    619.890110   76.00001  -30.994521  96.000000   \n",
        "8      0.000000   96.00001    0.000000        inf   \n",
        "\n",
        "                                       expensive_arc  \n",
        "0         (ship.Austin.Lubbock, 17.0, 377.876427276)  \n",
        "1      (ship.Austin.Lubbock, 7.99999, 377.876427276)  \n",
        "2         (ship.El Paso.Lubbock, 5.0, 290.966961767)  \n",
        "3     (ship.El Paso.Lubbock, 4.99999, 290.966961767)  \n",
        "4     (ship.El Paso.Odessa, 18.99999, 238.396305228)  \n",
        "5       (ship.Dallas.Norman, 7.99999, 173.252603214)  \n",
        "6  (ship.Austin.San Antonio, 17.99999, 119.883899...  \n",
        "7  (ship.Dallas.Fort Worth, 19.99999, 30.9945210099)  \n",
        "8                   (shortage.Fort Worth, 20.0, 0.0)  "
       ]
      }
     ],
     "prompt_number": 11
    }
   ],
   "metadata": {}
  }
 ]
}